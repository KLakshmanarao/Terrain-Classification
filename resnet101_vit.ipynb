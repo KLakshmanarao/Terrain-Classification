{
 "cells": [
  {
   "cell_type": "code",
   "execution_count": 13,
   "metadata": {},
   "outputs": [],
   "source": [
    "import tensorflow as tf\n",
    "from tensorflow.keras import layers, models\n",
    "from tensorflow.keras.optimizers import Adam\n",
    "from tensorflow.keras.models import load_model\n",
    "from tensorflow.keras.layers import MultiHeadAttention\n",
    "from keras.preprocessing.image import ImageDataGenerator"
   ]
  },
  {
   "cell_type": "code",
   "execution_count": 14,
   "metadata": {},
   "outputs": [
    {
     "name": "stdout",
     "output_type": "stream",
     "text": [
      "Feature Shape: (64,)\n"
     ]
    }
   ],
   "source": [
    "# Load the model from the H5 file\n",
    "loaded_model = load_model('resnet101_model.h5')\n",
    "\n",
    "# Print the shape of the feature extraction layer for debugging\n",
    "print(\"Feature Shape:\", loaded_model.layers[-3].output_shape[1:])"
   ]
  },
  {
   "cell_type": "code",
   "execution_count": 15,
   "metadata": {},
   "outputs": [],
   "source": [
    "train_path = './train'\n",
    "test_path = './test'\n",
    "val_path = './val'\n",
    "\n",
    "size_images = 150\n",
    "batch_size = 32"
   ]
  },
  {
   "cell_type": "code",
   "execution_count": 16,
   "metadata": {},
   "outputs": [
    {
     "name": "stdout",
     "output_type": "stream",
     "text": [
      "Found 31571 images belonging to 4 classes.\n",
      "Found 6769 images belonging to 4 classes.\n",
      "Found 6765 images belonging to 4 classes.\n"
     ]
    }
   ],
   "source": [
    "train_datagen = ImageDataGenerator(\n",
    "    rescale=1.0/255,                # Rescale pixel values to [0, 1]\n",
    ")\n",
    "train_generator = train_datagen.flow_from_directory(\n",
    "    train_path,                     # Path to the training data\n",
    "    target_size=(size_images, size_images),  # Resize images to this size\n",
    "    batch_size = batch_size,        # Number of images in each batch\n",
    "    class_mode ='categorical'       # Mode for class labels (categorical for one-hot encoding)\n",
    ")\n",
    "\n",
    "test_datagen = ImageDataGenerator(rescale=1.0/255)\n",
    "test_generator = test_datagen.flow_from_directory(\n",
    "    test_path,\n",
    "    target_size=(size_images, size_images),\n",
    "    batch_size = batch_size,\n",
    "    class_mode='categorical')\n",
    "\n",
    "val_datagen = ImageDataGenerator(rescale=1.0/255)\n",
    "\n",
    "val_generator = val_datagen.flow_from_directory(\n",
    "    val_path,\n",
    "    target_size=(size_images, size_images),\n",
    "    batch_size=batch_size,\n",
    "    class_mode='categorical'\n",
    ")"
   ]
  },
  {
   "cell_type": "code",
   "execution_count": 17,
   "metadata": {},
   "outputs": [],
   "source": [
    "from tensorflow.keras.callbacks import EarlyStopping, LearningRateScheduler\n",
    "# Define a learning rate schedule function\n",
    "def lr_schedule(epoch):\n",
    "    initial_lr = 0.001\n",
    "    drop = 0.5\n",
    "    epochs_drop = 5\n",
    "    lr = initial_lr * math.pow(drop, math.floor((1+epoch)/epochs_drop))\n",
    "    return lr\n",
    "\n",
    "early_stopping = EarlyStopping(\n",
    "    min_delta=0.001,\n",
    "    patience=5,\n",
    "    restore_best_weights=True,\n",
    ")\n",
    "\n",
    "# Use the LearningRateScheduler callback\n",
    "lr_callback = LearningRateScheduler(lr_schedule)"
   ]
  },
  {
   "cell_type": "code",
   "execution_count": 18,
   "metadata": {},
   "outputs": [
    {
     "name": "stdout",
     "output_type": "stream",
     "text": [
      "Feature Shape: (64,)\n"
     ]
    }
   ],
   "source": [
    "import tensorflow as tf\n",
    "from tensorflow.keras import layers, models\n",
    "from tensorflow.keras.layers import MultiHeadAttention\n",
    "from tensorflow.keras.optimizers import Adam\n",
    "# Assuming you have a pre-trained feature extractor model (e.g., a CNN)\n",
    "pretrained_feature_extractor = loaded_model.layers[-3]\n",
    "\n",
    "# Get the output shape of the feature extraction layer\n",
    "feature_shape = pretrained_feature_extractor.output_shape[1:]\n",
    "\n",
    "base_model = models.Model(inputs=loaded_model.input, outputs=loaded_model.layers[-3].output)\n",
    "# Print the shape for debugging\n",
    "print(\"Feature Shape:\", feature_shape)"
   ]
  },
  {
   "cell_type": "code",
   "execution_count": 19,
   "metadata": {},
   "outputs": [
    {
     "name": "stdout",
     "output_type": "stream",
     "text": [
      "Model: \"model_3\"\n",
      "__________________________________________________________________________________________________\n",
      "Layer (type)                    Output Shape         Param #     Connected to                     \n",
      "==================================================================================================\n",
      "input_2 (InputLayer)            [(None, 64)]         0                                            \n",
      "__________________________________________________________________________________________________\n",
      "reshape_2 (Reshape)             (None, 1, 64)        0           input_2[0][0]                    \n",
      "__________________________________________________________________________________________________\n",
      "multi_head_attention_1 (MultiHe (None, 1, 64)        82944       reshape_2[0][0]                  \n",
      "                                                                 reshape_2[0][0]                  \n",
      "__________________________________________________________________________________________________\n",
      "layer_normalization_1 (LayerNor (None, 1, 64)        128         multi_head_attention_1[0][0]     \n",
      "__________________________________________________________________________________________________\n",
      "dropout_1 (Dropout)             (None, 1, 64)        0           layer_normalization_1[0][0]      \n",
      "__________________________________________________________________________________________________\n",
      "reshape_3 (Reshape)             (None, 1, 64)        0           dropout_1[0][0]                  \n",
      "__________________________________________________________________________________________________\n",
      "dense_1 (Dense)                 (None, 1, 4)         260         reshape_3[0][0]                  \n",
      "==================================================================================================\n",
      "Total params: 83,332\n",
      "Trainable params: 83,332\n",
      "Non-trainable params: 0\n",
      "__________________________________________________________________________________________________\n"
     ]
    }
   ],
   "source": [
    "# Define your transformer model\n",
    "def transformer_model(input_shape, num_transformer_layers, output_dim):\n",
    "    inputs = tf.keras.Input(shape=input_shape)\n",
    "    \n",
    "    # Add a \"sequence_length\" dimension to the input\n",
    "    sequence = layers.Reshape((1, input_shape[0]))(inputs)\n",
    "    \n",
    "    # Transformer layers using MultiHeadAttention\n",
    "    sequence = MultiHeadAttention(num_heads=5, key_dim=64)(sequence, sequence)\n",
    "    sequence = layers.LayerNormalization(epsilon=1e-6)(sequence)\n",
    "    sequence = layers.Dropout(0.1)(sequence)\n",
    "    \n",
    "    # Reshape the sequence to maintain 3D structure\n",
    "    sequence = layers.Reshape((-1, feature_shape[0]))(sequence)\n",
    "    \n",
    "    # Output layer for your specific task\n",
    "    outputs = layers.Dense(output_dim, activation='softmax')(sequence)\n",
    "    \n",
    "    model = models.Model(inputs=inputs, outputs=outputs)\n",
    "    return model\n",
    "\n",
    "# Define your task-specific output dimension (e.g., number of classes)\n",
    "output_dim = 4\n",
    "num_tlayers = 2\n",
    "\n",
    "# Create the transformer model\n",
    "transformer = transformer_model(input_shape=feature_shape, num_transformer_layers=num_tlayers, output_dim=output_dim)\n",
    "\n",
    "# Print the summary of the model for debugging\n",
    "transformer.summary()\n"
   ]
  },
  {
   "cell_type": "code",
   "execution_count": 20,
   "metadata": {},
   "outputs": [
    {
     "name": "stdout",
     "output_type": "stream",
     "text": [
      "Model: \"sequential_1\"\n",
      "_________________________________________________________________\n",
      "Layer (type)                 Output Shape              Param #   \n",
      "=================================================================\n",
      "model_2 (Functional)         (None, 64)                55806784  \n",
      "_________________________________________________________________\n",
      "model_3 (Functional)         (None, 1, 4)              83332     \n",
      "_________________________________________________________________\n",
      "flatten_1 (Flatten)          (None, 4)                 0         \n",
      "=================================================================\n",
      "Total params: 55,890,116\n",
      "Trainable params: 13,231,940\n",
      "Non-trainable params: 42,658,176\n",
      "_________________________________________________________________\n"
     ]
    }
   ],
   "source": [
    "# Combine the pre-trained feature extractor with the transformer\n",
    "combined_model = models.Sequential([\n",
    "    base_model,\n",
    "    transformer,\n",
    "    layers.Flatten()  # Add Flatten layer to reshape the output\n",
    "])\n",
    "\n",
    "# Compile the model (adjust loss and metrics based on your task)\n",
    "combined_model.compile(optimizer=Adam(learning_rate=0.000005), loss='categorical_crossentropy', metrics=['accuracy'])\n",
    "\n",
    "# Print the summary of the combined model\n",
    "combined_model.summary()"
   ]
  },
  {
   "cell_type": "code",
   "execution_count": 21,
   "metadata": {},
   "outputs": [
    {
     "name": "stdout",
     "output_type": "stream",
     "text": [
      "Epoch 1/20\n",
      "986/986 [==============================] - 513s 506ms/step - loss: 0.5193 - accuracy: 0.7936 - val_loss: 0.4811 - val_accuracy: 0.8162\n",
      "Epoch 2/20\n",
      "986/986 [==============================] - 177s 179ms/step - loss: 0.4738 - accuracy: 0.8077 - val_loss: 0.4281 - val_accuracy: 0.8298\n",
      "Epoch 3/20\n",
      "986/986 [==============================] - 171s 174ms/step - loss: 0.4694 - accuracy: 0.8114 - val_loss: 0.6303 - val_accuracy: 0.7291\n",
      "Epoch 4/20\n",
      "986/986 [==============================] - 174s 176ms/step - loss: 0.4722 - accuracy: 0.8074 - val_loss: 0.6176 - val_accuracy: 0.7387\n",
      "Epoch 5/20\n",
      "986/986 [==============================] - 172s 175ms/step - loss: 0.4128 - accuracy: 0.8345 - val_loss: 0.4362 - val_accuracy: 0.8198\n",
      "Epoch 6/20\n",
      "986/986 [==============================] - 173s 176ms/step - loss: 0.4117 - accuracy: 0.8356 - val_loss: 0.4205 - val_accuracy: 0.8309\n",
      "Epoch 7/20\n",
      "986/986 [==============================] - 164s 166ms/step - loss: 0.3995 - accuracy: 0.8388 - val_loss: 0.4133 - val_accuracy: 0.8313\n",
      "Epoch 8/20\n",
      "986/986 [==============================] - 177s 180ms/step - loss: 0.4031 - accuracy: 0.8378 - val_loss: 0.4193 - val_accuracy: 0.8358\n",
      "Epoch 9/20\n",
      "986/986 [==============================] - 169s 171ms/step - loss: 0.3920 - accuracy: 0.8429 - val_loss: 0.3874 - val_accuracy: 0.8494\n",
      "Epoch 10/20\n",
      "986/986 [==============================] - 172s 174ms/step - loss: 0.3674 - accuracy: 0.8512 - val_loss: 0.3855 - val_accuracy: 0.8526\n",
      "Epoch 11/20\n",
      "986/986 [==============================] - 173s 175ms/step - loss: 0.3625 - accuracy: 0.8547 - val_loss: 0.4368 - val_accuracy: 0.8232\n",
      "Epoch 12/20\n",
      "986/986 [==============================] - 176s 179ms/step - loss: 0.3607 - accuracy: 0.8559 - val_loss: 0.3782 - val_accuracy: 0.8488\n",
      "Epoch 13/20\n",
      "986/986 [==============================] - 175s 178ms/step - loss: 0.3598 - accuracy: 0.8548 - val_loss: 0.3790 - val_accuracy: 0.8506\n",
      "Epoch 14/20\n",
      "986/986 [==============================] - 179s 182ms/step - loss: 0.3611 - accuracy: 0.8543 - val_loss: 0.3710 - val_accuracy: 0.8497\n",
      "Epoch 15/20\n",
      "986/986 [==============================] - 176s 178ms/step - loss: 0.3418 - accuracy: 0.8635 - val_loss: 0.3821 - val_accuracy: 0.8498\n",
      "Epoch 16/20\n",
      "986/986 [==============================] - 178s 181ms/step - loss: 0.3427 - accuracy: 0.8630 - val_loss: 0.3666 - val_accuracy: 0.8578\n",
      "Epoch 17/20\n",
      "986/986 [==============================] - 177s 179ms/step - loss: 0.3409 - accuracy: 0.8632 - val_loss: 0.3668 - val_accuracy: 0.8546\n",
      "Epoch 18/20\n",
      "986/986 [==============================] - 173s 175ms/step - loss: 0.3382 - accuracy: 0.8655 - val_loss: 0.3637 - val_accuracy: 0.8547\n",
      "Epoch 19/20\n",
      "986/986 [==============================] - 165s 167ms/step - loss: 0.3360 - accuracy: 0.8655 - val_loss: 0.3695 - val_accuracy: 0.8562\n",
      "Epoch 20/20\n",
      "986/986 [==============================] - 175s 178ms/step - loss: 0.3265 - accuracy: 0.8701 - val_loss: 0.3592 - val_accuracy: 0.8566\n"
     ]
    }
   ],
   "source": [
    "# Train the model\n",
    "import math\n",
    "history = combined_model.fit(\n",
    "    train_generator,\n",
    "    steps_per_epoch=train_generator.samples // batch_size,\n",
    "    epochs=20,\n",
    "    validation_data=val_generator,\n",
    "    validation_steps=val_generator.samples // batch_size,\n",
    "    callbacks=[early_stopping, lr_callback]\n",
    ")"
   ]
  },
  {
   "cell_type": "code",
   "execution_count": 22,
   "metadata": {},
   "outputs": [
    {
     "name": "stdout",
     "output_type": "stream",
     "text": [
      "211/211 [==============================] - 49s 233ms/step - loss: 0.3646 - accuracy: 0.8578\n",
      "Test Loss: 0.36456751823425293\n",
      "Test Accuracy: 0.8578199148178101\n"
     ]
    }
   ],
   "source": [
    "test_results = combined_model.evaluate(test_generator, steps=test_generator.samples // batch_size)\n",
    "print(\"Test Loss:\", test_results[0])\n",
    "print(\"Test Accuracy:\", test_results[1])"
   ]
  },
  {
   "cell_type": "code",
   "execution_count": 23,
   "metadata": {},
   "outputs": [
    {
     "name": "stderr",
     "output_type": "stream",
     "text": [
      "c:\\Users\\AILABSERVER\\anaconda3\\envs\\suresh\\lib\\site-packages\\tensorflow\\python\\keras\\utils\\generic_utils.py:494: CustomMaskWarning: Custom mask layers require a config and must override get_config. When loading, the custom mask layer must be passed to the custom_objects argument.\n",
      "  warnings.warn('Custom mask layers require a config and must override '\n"
     ]
    },
    {
     "ename": "ValueError",
     "evalue": "Unable to synchronously create dataset (name already exists)",
     "output_type": "error",
     "traceback": [
      "\u001b[1;31m---------------------------------------------------------------------------\u001b[0m",
      "\u001b[1;31mValueError\u001b[0m                                Traceback (most recent call last)",
      "Cell \u001b[1;32mIn[23], line 1\u001b[0m\n\u001b[1;32m----> 1\u001b[0m \u001b[43mcombined_model\u001b[49m\u001b[38;5;241;43m.\u001b[39;49m\u001b[43msave\u001b[49m\u001b[43m(\u001b[49m\u001b[38;5;124;43m'\u001b[39;49m\u001b[38;5;124;43mresnet101_vit_model.h5\u001b[39;49m\u001b[38;5;124;43m'\u001b[39;49m\u001b[43m)\u001b[49m\n",
      "File \u001b[1;32mc:\\Users\\AILABSERVER\\anaconda3\\envs\\suresh\\lib\\site-packages\\tensorflow\\python\\keras\\engine\\training.py:2140\u001b[0m, in \u001b[0;36mModel.save\u001b[1;34m(self, filepath, overwrite, include_optimizer, save_format, signatures, options, save_traces)\u001b[0m\n\u001b[0;32m   2098\u001b[0m \u001b[38;5;250m\u001b[39m\u001b[38;5;124;03m\"\"\"Saves the model to Tensorflow SavedModel or a single HDF5 file.\u001b[39;00m\n\u001b[0;32m   2099\u001b[0m \n\u001b[0;32m   2100\u001b[0m \u001b[38;5;124;03mPlease see `tf.keras.models.save_model` or the\u001b[39;00m\n\u001b[1;32m   (...)\u001b[0m\n\u001b[0;32m   2137\u001b[0m \u001b[38;5;124;03m```\u001b[39;00m\n\u001b[0;32m   2138\u001b[0m \u001b[38;5;124;03m\"\"\"\u001b[39;00m\n\u001b[0;32m   2139\u001b[0m \u001b[38;5;66;03m# pylint: enable=line-too-long\u001b[39;00m\n\u001b[1;32m-> 2140\u001b[0m \u001b[43msave\u001b[49m\u001b[38;5;241;43m.\u001b[39;49m\u001b[43msave_model\u001b[49m\u001b[43m(\u001b[49m\u001b[38;5;28;43mself\u001b[39;49m\u001b[43m,\u001b[49m\u001b[43m \u001b[49m\u001b[43mfilepath\u001b[49m\u001b[43m,\u001b[49m\u001b[43m \u001b[49m\u001b[43moverwrite\u001b[49m\u001b[43m,\u001b[49m\u001b[43m \u001b[49m\u001b[43minclude_optimizer\u001b[49m\u001b[43m,\u001b[49m\u001b[43m \u001b[49m\u001b[43msave_format\u001b[49m\u001b[43m,\u001b[49m\n\u001b[0;32m   2141\u001b[0m \u001b[43m                \u001b[49m\u001b[43msignatures\u001b[49m\u001b[43m,\u001b[49m\u001b[43m \u001b[49m\u001b[43moptions\u001b[49m\u001b[43m,\u001b[49m\u001b[43m \u001b[49m\u001b[43msave_traces\u001b[49m\u001b[43m)\u001b[49m\n",
      "File \u001b[1;32mc:\\Users\\AILABSERVER\\anaconda3\\envs\\suresh\\lib\\site-packages\\tensorflow\\python\\keras\\saving\\save.py:146\u001b[0m, in \u001b[0;36msave_model\u001b[1;34m(model, filepath, overwrite, include_optimizer, save_format, signatures, options, save_traces)\u001b[0m\n\u001b[0;32m    137\u001b[0m   \u001b[38;5;28;01mif\u001b[39;00m (\u001b[38;5;129;01mnot\u001b[39;00m model\u001b[38;5;241m.\u001b[39m_is_graph_network \u001b[38;5;129;01mand\u001b[39;00m  \u001b[38;5;66;03m# pylint:disable=protected-access\u001b[39;00m\n\u001b[0;32m    138\u001b[0m       \u001b[38;5;129;01mnot\u001b[39;00m \u001b[38;5;28misinstance\u001b[39m(model, sequential\u001b[38;5;241m.\u001b[39mSequential)):\n\u001b[0;32m    139\u001b[0m     \u001b[38;5;28;01mraise\u001b[39;00m \u001b[38;5;167;01mNotImplementedError\u001b[39;00m(\n\u001b[0;32m    140\u001b[0m         \u001b[38;5;124m'\u001b[39m\u001b[38;5;124mSaving the model to HDF5 format requires the model to be a \u001b[39m\u001b[38;5;124m'\u001b[39m\n\u001b[0;32m    141\u001b[0m         \u001b[38;5;124m'\u001b[39m\u001b[38;5;124mFunctional model or a Sequential model. It does not work for \u001b[39m\u001b[38;5;124m'\u001b[39m\n\u001b[1;32m   (...)\u001b[0m\n\u001b[0;32m    144\u001b[0m         \u001b[38;5;124m'\u001b[39m\u001b[38;5;124mto the Tensorflow SavedModel format (by setting save_format=\u001b[39m\u001b[38;5;124m\"\u001b[39m\u001b[38;5;124mtf\u001b[39m\u001b[38;5;124m\"\u001b[39m\u001b[38;5;124m) \u001b[39m\u001b[38;5;124m'\u001b[39m\n\u001b[0;32m    145\u001b[0m         \u001b[38;5;124m'\u001b[39m\u001b[38;5;124mor using `save_weights`.\u001b[39m\u001b[38;5;124m'\u001b[39m)\n\u001b[1;32m--> 146\u001b[0m   \u001b[43mhdf5_format\u001b[49m\u001b[38;5;241;43m.\u001b[39;49m\u001b[43msave_model_to_hdf5\u001b[49m\u001b[43m(\u001b[49m\n\u001b[0;32m    147\u001b[0m \u001b[43m      \u001b[49m\u001b[43mmodel\u001b[49m\u001b[43m,\u001b[49m\u001b[43m \u001b[49m\u001b[43mfilepath\u001b[49m\u001b[43m,\u001b[49m\u001b[43m \u001b[49m\u001b[43moverwrite\u001b[49m\u001b[43m,\u001b[49m\u001b[43m \u001b[49m\u001b[43minclude_optimizer\u001b[49m\u001b[43m)\u001b[49m\n\u001b[0;32m    148\u001b[0m \u001b[38;5;28;01melse\u001b[39;00m:\n\u001b[0;32m    149\u001b[0m   \u001b[38;5;28;01mwith\u001b[39;00m generic_utils\u001b[38;5;241m.\u001b[39mSharedObjectSavingScope():\n",
      "File \u001b[1;32mc:\\Users\\AILABSERVER\\anaconda3\\envs\\suresh\\lib\\site-packages\\tensorflow\\python\\keras\\saving\\hdf5_format.py:126\u001b[0m, in \u001b[0;36msave_model_to_hdf5\u001b[1;34m(model, filepath, overwrite, include_optimizer)\u001b[0m\n\u001b[0;32m    122\u001b[0m   \u001b[38;5;66;03m# TODO(b/128683857): Add integration tests between tf.keras and external\u001b[39;00m\n\u001b[0;32m    123\u001b[0m   \u001b[38;5;66;03m# Keras, to avoid breaking TF.js users.\u001b[39;00m\n\u001b[0;32m    124\u001b[0m   \u001b[38;5;28;01mif\u001b[39;00m (include_optimizer \u001b[38;5;129;01mand\u001b[39;00m model\u001b[38;5;241m.\u001b[39moptimizer \u001b[38;5;129;01mand\u001b[39;00m\n\u001b[0;32m    125\u001b[0m       \u001b[38;5;129;01mnot\u001b[39;00m \u001b[38;5;28misinstance\u001b[39m(model\u001b[38;5;241m.\u001b[39moptimizer, optimizer_v1\u001b[38;5;241m.\u001b[39mTFOptimizer)):\n\u001b[1;32m--> 126\u001b[0m     \u001b[43msave_optimizer_weights_to_hdf5_group\u001b[49m\u001b[43m(\u001b[49m\u001b[43mf\u001b[49m\u001b[43m,\u001b[49m\u001b[43m \u001b[49m\u001b[43mmodel\u001b[49m\u001b[38;5;241;43m.\u001b[39;49m\u001b[43moptimizer\u001b[49m\u001b[43m)\u001b[49m\n\u001b[0;32m    128\u001b[0m   f\u001b[38;5;241m.\u001b[39mflush()\n\u001b[0;32m    129\u001b[0m \u001b[38;5;28;01mfinally\u001b[39;00m:\n",
      "File \u001b[1;32mc:\\Users\\AILABSERVER\\anaconda3\\envs\\suresh\\lib\\site-packages\\tensorflow\\python\\keras\\saving\\hdf5_format.py:594\u001b[0m, in \u001b[0;36msave_optimizer_weights_to_hdf5_group\u001b[1;34m(hdf5_group, optimizer)\u001b[0m\n\u001b[0;32m    592\u001b[0m weight_values \u001b[38;5;241m=\u001b[39m backend\u001b[38;5;241m.\u001b[39mbatch_get_value(symbolic_weights)\n\u001b[0;32m    593\u001b[0m \u001b[38;5;28;01mfor\u001b[39;00m name, val \u001b[38;5;129;01min\u001b[39;00m \u001b[38;5;28mzip\u001b[39m(weight_names, weight_values):\n\u001b[1;32m--> 594\u001b[0m   param_dset \u001b[38;5;241m=\u001b[39m \u001b[43mweights_group\u001b[49m\u001b[38;5;241;43m.\u001b[39;49m\u001b[43mcreate_dataset\u001b[49m\u001b[43m(\u001b[49m\n\u001b[0;32m    595\u001b[0m \u001b[43m      \u001b[49m\u001b[43mname\u001b[49m\u001b[43m,\u001b[49m\u001b[43m \u001b[49m\u001b[43mval\u001b[49m\u001b[38;5;241;43m.\u001b[39;49m\u001b[43mshape\u001b[49m\u001b[43m,\u001b[49m\u001b[43m \u001b[49m\u001b[43mdtype\u001b[49m\u001b[38;5;241;43m=\u001b[39;49m\u001b[43mval\u001b[49m\u001b[38;5;241;43m.\u001b[39;49m\u001b[43mdtype\u001b[49m\u001b[43m)\u001b[49m\n\u001b[0;32m    596\u001b[0m   \u001b[38;5;28;01mif\u001b[39;00m \u001b[38;5;129;01mnot\u001b[39;00m val\u001b[38;5;241m.\u001b[39mshape:\n\u001b[0;32m    597\u001b[0m     \u001b[38;5;66;03m# scalar\u001b[39;00m\n\u001b[0;32m    598\u001b[0m     param_dset[()] \u001b[38;5;241m=\u001b[39m val\n",
      "File \u001b[1;32mc:\\Users\\AILABSERVER\\anaconda3\\envs\\suresh\\lib\\site-packages\\h5py\\_hl\\group.py:183\u001b[0m, in \u001b[0;36mGroup.create_dataset\u001b[1;34m(self, name, shape, dtype, data, **kwds)\u001b[0m\n\u001b[0;32m    180\u001b[0m         parent_path, name \u001b[38;5;241m=\u001b[39m name\u001b[38;5;241m.\u001b[39mrsplit(\u001b[38;5;124mb\u001b[39m\u001b[38;5;124m'\u001b[39m\u001b[38;5;124m/\u001b[39m\u001b[38;5;124m'\u001b[39m, \u001b[38;5;241m1\u001b[39m)\n\u001b[0;32m    181\u001b[0m         group \u001b[38;5;241m=\u001b[39m \u001b[38;5;28mself\u001b[39m\u001b[38;5;241m.\u001b[39mrequire_group(parent_path)\n\u001b[1;32m--> 183\u001b[0m dsid \u001b[38;5;241m=\u001b[39m dataset\u001b[38;5;241m.\u001b[39mmake_new_dset(group, shape, dtype, data, name, \u001b[38;5;241m*\u001b[39m\u001b[38;5;241m*\u001b[39mkwds)\n\u001b[0;32m    184\u001b[0m dset \u001b[38;5;241m=\u001b[39m dataset\u001b[38;5;241m.\u001b[39mDataset(dsid)\n\u001b[0;32m    185\u001b[0m \u001b[38;5;28;01mreturn\u001b[39;00m dset\n",
      "File \u001b[1;32mc:\\Users\\AILABSERVER\\anaconda3\\envs\\suresh\\lib\\site-packages\\h5py\\_hl\\dataset.py:163\u001b[0m, in \u001b[0;36mmake_new_dset\u001b[1;34m(parent, shape, dtype, data, name, chunks, compression, shuffle, fletcher32, maxshape, compression_opts, fillvalue, scaleoffset, track_times, external, track_order, dcpl, dapl, efile_prefix, virtual_prefix, allow_unknown_filter, rdcc_nslots, rdcc_nbytes, rdcc_w0)\u001b[0m\n\u001b[0;32m    160\u001b[0m \u001b[38;5;28;01melse\u001b[39;00m:\n\u001b[0;32m    161\u001b[0m     sid \u001b[38;5;241m=\u001b[39m h5s\u001b[38;5;241m.\u001b[39mcreate_simple(shape, maxshape)\n\u001b[1;32m--> 163\u001b[0m dset_id \u001b[38;5;241m=\u001b[39m \u001b[43mh5d\u001b[49m\u001b[38;5;241;43m.\u001b[39;49m\u001b[43mcreate\u001b[49m\u001b[43m(\u001b[49m\u001b[43mparent\u001b[49m\u001b[38;5;241;43m.\u001b[39;49m\u001b[43mid\u001b[49m\u001b[43m,\u001b[49m\u001b[43m \u001b[49m\u001b[43mname\u001b[49m\u001b[43m,\u001b[49m\u001b[43m \u001b[49m\u001b[43mtid\u001b[49m\u001b[43m,\u001b[49m\u001b[43m \u001b[49m\u001b[43msid\u001b[49m\u001b[43m,\u001b[49m\u001b[43m \u001b[49m\u001b[43mdcpl\u001b[49m\u001b[38;5;241;43m=\u001b[39;49m\u001b[43mdcpl\u001b[49m\u001b[43m,\u001b[49m\u001b[43m \u001b[49m\u001b[43mdapl\u001b[49m\u001b[38;5;241;43m=\u001b[39;49m\u001b[43mdapl\u001b[49m\u001b[43m)\u001b[49m\n\u001b[0;32m    165\u001b[0m \u001b[38;5;28;01mif\u001b[39;00m (data \u001b[38;5;129;01mis\u001b[39;00m \u001b[38;5;129;01mnot\u001b[39;00m \u001b[38;5;28;01mNone\u001b[39;00m) \u001b[38;5;129;01mand\u001b[39;00m (\u001b[38;5;129;01mnot\u001b[39;00m \u001b[38;5;28misinstance\u001b[39m(data, Empty)):\n\u001b[0;32m    166\u001b[0m     dset_id\u001b[38;5;241m.\u001b[39mwrite(h5s\u001b[38;5;241m.\u001b[39mALL, h5s\u001b[38;5;241m.\u001b[39mALL, data)\n",
      "File \u001b[1;32mh5py\\_objects.pyx:54\u001b[0m, in \u001b[0;36mh5py._objects.with_phil.wrapper\u001b[1;34m()\u001b[0m\n",
      "File \u001b[1;32mh5py\\_objects.pyx:55\u001b[0m, in \u001b[0;36mh5py._objects.with_phil.wrapper\u001b[1;34m()\u001b[0m\n",
      "File \u001b[1;32mh5py\\h5d.pyx:137\u001b[0m, in \u001b[0;36mh5py.h5d.create\u001b[1;34m()\u001b[0m\n",
      "\u001b[1;31mValueError\u001b[0m: Unable to synchronously create dataset (name already exists)"
     ]
    }
   ],
   "source": [
    "combined_model.save('resnet101_vit_model.h5')"
   ]
  },
  {
   "cell_type": "code",
   "execution_count": 24,
   "metadata": {},
   "outputs": [],
   "source": [
    "import numpy as np\n",
    "\n",
    "# Initialize lists to accumulate predictions and true labels\n",
    "all_predictions = []\n",
    "all_true_labels = []\n",
    "\n",
    "# Loop through all batches in the test generator\n",
    "for _ in range(len(test_generator)):\n",
    "    images, labels = test_generator.next()\n",
    "\n",
    "    # Predictions on the current batch\n",
    "    batch_predictions = combined_model.predict(images)\n",
    "    all_predictions.extend(batch_predictions)\n",
    "    \n",
    "    # True labels for the current batch\n",
    "    batch_true_labels = np.argmax(labels, axis=1)\n",
    "    all_true_labels.extend(batch_true_labels)\n",
    "\n",
    "# Convert lists to numpy arrays\n",
    "all_predictions = np.array(all_predictions)\n",
    "all_true_labels = np.array(all_true_labels)\n",
    "\n",
    "# Extract predicted labels from all predictions\n",
    "predicted_labels = np.argmax(all_predictions, axis=1)"
   ]
  },
  {
   "cell_type": "code",
   "execution_count": 28,
   "metadata": {},
   "outputs": [
    {
     "data": {
      "image/png": "[encoded data removed]",
      "text/plain": [
       "<Figure size 600x400 with 2 Axes>"
      ]
     },
     "metadata": {},
     "output_type": "display_data"
    }
   ],
   "source": [
    "# Confusion Matrix\n",
    "from sklearn.metrics import classification_report, confusion_matrix\n",
    "import matplotlib.pyplot as plt\n",
    "import seaborn as sns\n",
    "conf_mat = confusion_matrix(all_true_labels, predicted_labels)\n",
    "\n",
    "# Plot the confusion matrix\n",
    "class_names = ['Grassy', 'Marshy', 'Rocky', 'Sandy']  # Update with your actual class names\n",
    "plt.figure(figsize=(6, 4))\n",
    "sns.heatmap(conf_mat, annot=True, fmt='d', cmap='Blues',\n",
    "            xticklabels=class_names, yticklabels=class_names)\n",
    "plt.title('Confusion Matrix - ResNet 101 VIT')\n",
    "plt.xlabel('Predicted')\n",
    "plt.ylabel('True')\n",
    "plt.show()"
   ]
  },
  {
   "cell_type": "code",
   "execution_count": 26,
   "metadata": {},
   "outputs": [
    {
     "name": "stdout",
     "output_type": "stream",
     "text": [
      "Percentage of correct predictions for Grassy: 86.84%\n",
      "Percentage of correct predictions for Marshy: 78.46%\n",
      "Percentage of correct predictions for Rocky: 80.11%\n",
      "Percentage of correct predictions for Sandy: 97.69%\n"
     ]
    }
   ],
   "source": [
    "# Calculate percentage of correct predictions for each class\n",
    "correctly_classified = np.diag(conf_mat)\n",
    "total_true_per_class = np.sum(conf_mat, axis=1)\n",
    "percentage_correct_per_class = (correctly_classified / total_true_per_class) * 100\n",
    "\n",
    "# Display the percentage of correct predictions for each class\n",
    "for i, class_name in enumerate(class_names):\n",
    "    print(f'Percentage of correct predictions for {class_name}: {percentage_correct_per_class[i]:.2f}%')\n"
   ]
  },
  {
   "cell_type": "code",
   "execution_count": 27,
   "metadata": {},
   "outputs": [
    {
     "data": {
      "image/png": "[encoded data removed]",
      "text/plain": [
       "<Figure size 1000x600 with 1 Axes>"
      ]
     },
     "metadata": {},
     "output_type": "display_data"
    }
   ],
   "source": [
    "class_names = ['Grassy', 'Marshy', 'Rocky', 'Sandy']  # Update with your actual class names\n",
    "\n",
    "# Print the number of images classified correctly and wrongly in each class\n",
    "correctly_classified = np.diag(conf_mat)\n",
    "wrongly_classified = np.sum(conf_mat, axis=1) - correctly_classified\n",
    "\n",
    "# Total number of images in each class\n",
    "total_images_per_class = np.sum(conf_mat, axis=1)\n",
    "\n",
    "x = np.arange(len(class_names))\n",
    "width = 0.25\n",
    "\n",
    "fig, ax = plt.subplots(figsize=(10, 6))\n",
    "\n",
    "rects1 = ax.bar(x - width, total_images_per_class, width, label='Total Images')\n",
    "rects2 = ax.bar(x, correctly_classified, width, label='Correct Predictions')\n",
    "rects3 = ax.bar(x + width, wrongly_classified, width, label='Wrong Predictions')\n",
    "\n",
    "ax.set_xlabel('Classes')\n",
    "ax.set_ylabel('Number of Images')\n",
    "ax.set_title('Total, Correct, and Wrong Predictions per Class - ResNet 101 VIT')\n",
    "ax.set_xticks(x)\n",
    "ax.set_xticklabels(class_names)\n",
    "ax.legend()\n",
    "\n",
    "# Display the number of images on top of each bar with proper spacing\n",
    "def autolabel(rects):\n",
    "    for rect in rects:\n",
    "        height = rect.get_height()\n",
    "        ax.annotate('{}'.format(height),\n",
    "                    xy=(rect.get_x() + rect.get_width() / 2, height),\n",
    "                    xytext=(0, 3),  # 3 points vertical offset\n",
    "                    textcoords=\"offset points\",\n",
    "                    ha='center', va='bottom')\n",
    "\n",
    "autolabel(rects1)\n",
    "autolabel(rects2)\n",
    "autolabel(rects3)\n",
    "\n",
    "# Adjust layout to prevent overlapping\n",
    "plt.tight_layout(rect=[0, 0, 1, 1.3])  # Increase the value in the last argument if necessary\n",
    "\n",
    "plt.show()"
   ]
  },
  {
   "cell_type": "code",
   "execution_count": 1,
   "metadata": {},
   "outputs": [
    {
     "name": "stdout",
     "output_type": "stream",
     "text": [
      "Class-wise Accuracy:\n",
      "\tGrassy: 0.8086\n",
      "\tMarshy: 0.6256\n",
      "\tRocky: 0.6719\n",
      "\tSandy: 0.9262\n",
      "\n",
      "Classification Report:\n",
      "             Precision    Recall  F1-Score   Support\n",
      "Grassy          0.9215  0.8684  0.8942         1719\n",
      "Marshy          0.7554  0.7846  0.7697         1721\n",
      "Rocky           0.8065  0.8011  0.8038         1633\n",
      "Sandy           0.9469  0.9769  0.9617         1696\n",
      "accuracy         0.8579        6769\n",
      "\n",
      "\n",
      "Macro Average (requires FN values):\n",
      "\tPrecision: 0.8576\n",
      "\tRecall: 14.1330\n",
      "\tF1-Score: 1.6170\n",
      "None\n"
     ]
    }
   ],
   "source": [
    "import numpy as np\n",
    "\n",
    "def calculate_metrics_and_report(confusion_matrix, class_names, total_per_class):\n",
    "  \"\"\"\n",
    "  This function calculates and displays various metrics and a classification report.\n",
    "\n",
    "  Args:\n",
    "      confusion_matrix: A numpy array representing the confusion matrix.\n",
    "      class_names: A list containing the names of the classes.\n",
    "      total_per_class (optional): A list containing the total number of images per class \n",
    "                                    (if available). Used to estimate FN_X.\n",
    "\n",
    "  Returns:\n",
    "      None (prints the metrics and report to the console).\n",
    "  \"\"\"\n",
    "\n",
    "  # Calculate class-wise elements\n",
    "  TP = np.diag(confusion_matrix)  # True positives (diagonal elements)\n",
    "  FP = confusion_matrix.sum(axis=0) - TP  # False positives (row sums minus diagonals)\n",
    "  FN = confusion_matrix.sum(axis=1) - TP  # False negatives (column sums minus diagonals)\n",
    "  TN = confusion_matrix.sum() - (TP + FP + FN)  # True negatives (all elements minus TP, FP, FN)\n",
    "\n",
    "  # Calculate totals\n",
    "  total_support = confusion_matrix.sum(axis=0)  # Total predicted instances per class\n",
    "  total_ground_truth = confusion_matrix.sum(axis=1)  # Total true instances per class\n",
    "\n",
    "  # Calculate class-wise accuracy\n",
    "  class_wise_accuracy = TP / (TP + FP + FN)\n",
    "\n",
    "  # Macro-average (requires FN values)\n",
    "  if total_per_class is not None:\n",
    "      # Estimate FN_X if total images per class are provided\n",
    "      FN_X = total_per_class - TP\n",
    "      macro_precision = np.mean(TP / (TP + FP))\n",
    "      macro_recall = np.mean(TP / FN_X)\n",
    "      macro_f1 = np.mean(2 * (macro_precision * macro_recall) / (macro_precision + macro_recall))\n",
    "  else:\n",
    "      macro_precision = np.nan\n",
    "      macro_recall = np.nan\n",
    "      macro_f1 = np.nan\n",
    "\n",
    "  # Micro-average\n",
    "  micro_precision = TP.sum() / (TP.sum() + FP.sum())\n",
    "  micro_recall = TP.sum() / (TP.sum() + FN.sum()) if total_per_class is not None else np.nan  # Avoid division by zero\n",
    "  micro_f1 = 2 * (micro_precision * micro_recall) / (micro_precision + micro_recall)\n",
    "\n",
    "  # Build the classification report string\n",
    "  report = \"             Precision    Recall  F1-Score   Support\\n\"\n",
    "  for i, class_name in enumerate(class_names):\n",
    "      precision = TP[i] / (TP[i] + FP[i]) if (TP[i] + FP[i]) > 0 else 0.0\n",
    "      recall = TP[i] / (TP[i] + FN[i]) if (TP[i] + FN[i]) > 0 else 0.0\n",
    "      f1 = 2 * (precision * recall) / (precision + recall) if (precision + recall) > 0 else 0.0\n",
    "      support = total_predicted_instances = total_support[i]\n",
    "      report += f\"{class_name:14}  {precision:.4f}  {recall:.4f}  {f1:.4f}         {support}\\n\"\n",
    "\n",
    "  # Add support for all classes\n",
    "  report += f\"accuracy         {TP.sum() / confusion_matrix.sum():.4f}        {total_ground_truth.sum()}\\n\"\n",
    "\n",
    "  # Print results\n",
    "  print(\"Class-wise Accuracy:\")\n",
    "  for i, class_name in enumerate(class_names):\n",
    "      print(f\"\\t{class_name}: {class_wise_accuracy[i]:.4f}\")\n",
    "  print(\"\\nClassification Report:\")\n",
    "  print(report)\n",
    "\n",
    "  print(\"\\nMacro Average (requires FN values):\")\n",
    "  print(f\"\\tPrecision: {macro_precision:.4f}\")\n",
    "  print(f\"\\tRecall: {macro_recall:.4f}\")  # Print NaN if FN_X not available\n",
    "  print(f\"\\tF1-Score: {macro_f1:.4f}\")  # Print NaN if FN_X not\n",
    "\n",
    "\n",
    "# Example usage\n",
    "confusion_matrix = np.array([[1584, 190, 42, 8],\n",
    "                             [94, 1300, 244, 19],\n",
    "                             [35, 229, 1317, 63],\n",
    "                             [6, 2, 30, 1606]])\n",
    "\n",
    "class_names = [\"Grassy\", \"Marshy\", \"Rocky\", \"Sandy\"]\n",
    "# Example: Assuming you have total images per class (replace with your actual values)\n",
    "total_per_class = [1824, 1657, 1644, 1644]\n",
    "\n",
    "report = calculate_metrics_and_report(confusion_matrix, class_names,total_per_class)\n",
    "print(report)"
   ]
  }
 ],
 "metadata": {
  "kernelspec": {
   "display_name": "suresh",
   "language": "python",
   "name": "python3"
  },
  "language_info": {
   "codemirror_mode": {
    "name": "ipython",
    "version": 3
   },
   "file_extension": ".py",
   "mimetype": "text/x-python",
   "name": "python",
   "nbconvert_exporter": "python",
   "pygments_lexer": "ipython3",
   "version": "3.12.0"
  }
 },
 "nbformat": 4,
 "nbformat_minor": 2
}
