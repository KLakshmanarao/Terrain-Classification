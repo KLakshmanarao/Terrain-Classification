{
 "cells": [
  {
   "cell_type": "code",
   "execution_count": 9,
   "metadata": {},
   "outputs": [],
   "source": [
    "import tensorflow as tf\n",
    "from tensorflow.keras import layers, models\n",
    "from tensorflow.keras.optimizers import Adam\n",
    "from tensorflow.keras.models import load_model\n",
    "from tensorflow.keras.layers import MultiHeadAttention\n",
    "from keras.preprocessing.image import ImageDataGenerator"
   ]
  },
  {
   "cell_type": "code",
   "execution_count": 10,
   "metadata": {},
   "outputs": [
    {
     "name": "stdout",
     "output_type": "stream",
     "text": [
      "Feature Shape: (64,)\n"
     ]
    }
   ],
   "source": [
    "# Load the model from the H5 file\n",
    "loaded_model = load_model('mobilenet_model.h5')\n",
    "\n",
    "# Print the shape of the feature extraction layer for debugging\n",
    "print(\"Feature Shape:\", loaded_model.layers[-3].output_shape[1:])"
   ]
  },
  {
   "cell_type": "code",
   "execution_count": 11,
   "metadata": {},
   "outputs": [],
   "source": [
    "train_path = './train'\n",
    "test_path = './test'\n",
    "val_path = './val'\n",
    "\n",
    "size_images = 150\n",
    "batch_size = 32"
   ]
  },
  {
   "cell_type": "code",
   "execution_count": 12,
   "metadata": {},
   "outputs": [
    {
     "name": "stdout",
     "output_type": "stream",
     "text": [
      "Found 31571 images belonging to 4 classes.\n",
      "Found 6769 images belonging to 4 classes.\n",
      "Found 6765 images belonging to 4 classes.\n"
     ]
    }
   ],
   "source": [
    "train_datagen = ImageDataGenerator(\n",
    "    rescale=1.0/255,                # Rescale pixel values to [0, 1]\n",
    ")\n",
    "train_generator = train_datagen.flow_from_directory(\n",
    "    train_path,                     # Path to the training data\n",
    "    target_size=(size_images, size_images),  # Resize images to this size\n",
    "    batch_size = batch_size,        # Number of images in each batch\n",
    "    class_mode ='categorical'       # Mode for class labels (categorical for one-hot encoding)\n",
    ")\n",
    "\n",
    "test_datagen = ImageDataGenerator(rescale=1.0/255)\n",
    "test_generator = test_datagen.flow_from_directory(\n",
    "    test_path,\n",
    "    target_size=(size_images, size_images),\n",
    "    batch_size = batch_size,\n",
    "    class_mode='categorical')\n",
    "\n",
    "val_datagen = ImageDataGenerator(rescale=1.0/255)\n",
    "\n",
    "val_generator = val_datagen.flow_from_directory(\n",
    "    val_path,\n",
    "    target_size=(size_images, size_images),\n",
    "    batch_size=batch_size,\n",
    "    class_mode='categorical'\n",
    ")"
   ]
  },
  {
   "cell_type": "code",
   "execution_count": 13,
   "metadata": {},
   "outputs": [],
   "source": [
    "from tensorflow.keras.callbacks import EarlyStopping, LearningRateScheduler\n",
    "# Define a learning rate schedule function\n",
    "def lr_schedule(epoch):\n",
    "    initial_lr = 0.001\n",
    "    drop = 0.5\n",
    "    epochs_drop = 5\n",
    "    lr = initial_lr * math.pow(drop, math.floor((1+epoch)/epochs_drop))\n",
    "    return lr\n",
    "\n",
    "early_stopping = EarlyStopping(\n",
    "    min_delta=0.001,\n",
    "    patience=5,\n",
    "    restore_best_weights=True,\n",
    ")\n",
    "\n",
    "# Use the LearningRateScheduler callback\n",
    "lr_callback = LearningRateScheduler(lr_schedule)"
   ]
  },
  {
   "cell_type": "code",
   "execution_count": 14,
   "metadata": {},
   "outputs": [
    {
     "name": "stdout",
     "output_type": "stream",
     "text": [
      "Feature Shape: (64,)\n"
     ]
    }
   ],
   "source": [
    "import tensorflow as tf\n",
    "from tensorflow.keras import layers, models\n",
    "from tensorflow.keras.layers import MultiHeadAttention\n",
    "from tensorflow.keras.optimizers import Adam\n",
    "# Assuming you have a pre-trained feature extractor model (e.g., a CNN)\n",
    "pretrained_feature_extractor = loaded_model.layers[-3]\n",
    "\n",
    "# Get the output shape of the feature extraction layer\n",
    "feature_shape = pretrained_feature_extractor.output_shape[1:]\n",
    "\n",
    "base_model = models.Model(inputs=loaded_model.input, outputs=loaded_model.layers[-3].output)\n",
    "# Print the shape for debugging\n",
    "print(\"Feature Shape:\", feature_shape)"
   ]
  },
  {
   "cell_type": "code",
   "execution_count": 15,
   "metadata": {},
   "outputs": [
    {
     "name": "stdout",
     "output_type": "stream",
     "text": [
      "Model: \"model_3\"\n",
      "__________________________________________________________________________________________________\n",
      "Layer (type)                    Output Shape         Param #     Connected to                     \n",
      "==================================================================================================\n",
      "input_2 (InputLayer)            [(None, 64)]         0                                            \n",
      "__________________________________________________________________________________________________\n",
      "reshape_2 (Reshape)             (None, 1, 64)        0           input_2[0][0]                    \n",
      "__________________________________________________________________________________________________\n",
      "multi_head_attention_1 (MultiHe (None, 1, 64)        82944       reshape_2[0][0]                  \n",
      "                                                                 reshape_2[0][0]                  \n",
      "__________________________________________________________________________________________________\n",
      "layer_normalization_1 (LayerNor (None, 1, 64)        128         multi_head_attention_1[0][0]     \n",
      "__________________________________________________________________________________________________\n",
      "dropout_1 (Dropout)             (None, 1, 64)        0           layer_normalization_1[0][0]      \n",
      "__________________________________________________________________________________________________\n",
      "reshape_3 (Reshape)             (None, 1, 64)        0           dropout_1[0][0]                  \n",
      "__________________________________________________________________________________________________\n",
      "dense_1 (Dense)                 (None, 1, 4)         260         reshape_3[0][0]                  \n",
      "==================================================================================================\n",
      "Total params: 83,332\n",
      "Trainable params: 83,332\n",
      "Non-trainable params: 0\n",
      "__________________________________________________________________________________________________\n"
     ]
    }
   ],
   "source": [
    "# Define your transformer model\n",
    "def transformer_model(input_shape, num_transformer_layers, output_dim):\n",
    "    inputs = tf.keras.Input(shape=input_shape)\n",
    "    \n",
    "    # Add a \"sequence_length\" dimension to the input\n",
    "    sequence = layers.Reshape((1, input_shape[0]))(inputs)\n",
    "    \n",
    "    # Transformer layers using MultiHeadAttention\n",
    "    sequence = MultiHeadAttention(num_heads=5, key_dim=64)(sequence, sequence)\n",
    "    sequence = layers.LayerNormalization(epsilon=1e-6)(sequence)\n",
    "    sequence = layers.Dropout(0.1)(sequence)\n",
    "    \n",
    "    # Reshape the sequence to maintain 3D structure\n",
    "    sequence = layers.Reshape((-1, feature_shape[0]))(sequence)\n",
    "    \n",
    "    # Output layer for your specific task\n",
    "    outputs = layers.Dense(output_dim, activation='softmax')(sequence)\n",
    "    \n",
    "    model = models.Model(inputs=inputs, outputs=outputs)\n",
    "    return model\n",
    "\n",
    "# Define your task-specific output dimension (e.g., number of classes)\n",
    "output_dim = 4\n",
    "num_tlayers = 2\n",
    "\n",
    "# Create the transformer model\n",
    "transformer = transformer_model(input_shape=feature_shape, num_transformer_layers=num_tlayers, output_dim=output_dim)\n",
    "\n",
    "# Print the summary of the model for debugging\n",
    "transformer.summary()\n"
   ]
  },
  {
   "cell_type": "code",
   "execution_count": 16,
   "metadata": {},
   "outputs": [
    {
     "name": "stdout",
     "output_type": "stream",
     "text": [
      "Model: \"sequential_1\"\n",
      "_________________________________________________________________\n",
      "Layer (type)                 Output Shape              Param #   \n",
      "=================================================================\n",
      "model_2 (Functional)         (None, 64)                3532416   \n",
      "_________________________________________________________________\n",
      "model_3 (Functional)         (None, 1, 4)              83332     \n",
      "_________________________________________________________________\n",
      "flatten_1 (Flatten)          (None, 4)                 0         \n",
      "=================================================================\n",
      "Total params: 3,615,748\n",
      "Trainable params: 386,884\n",
      "Non-trainable params: 3,228,864\n",
      "_________________________________________________________________\n"
     ]
    }
   ],
   "source": [
    "# Combine the pre-trained feature extractor with the transformer\n",
    "combined_model = models.Sequential([\n",
    "    base_model,\n",
    "    transformer,\n",
    "    layers.Flatten()  # Add Flatten layer to reshape the output\n",
    "])\n",
    "\n",
    "# Compile the model (adjust loss and metrics based on your task)\n",
    "combined_model.compile(optimizer=Adam(learning_rate=0.000005), loss='categorical_crossentropy', metrics=['accuracy'])\n",
    "\n",
    "# Print the summary of the combined model\n",
    "combined_model.summary()"
   ]
  },
  {
   "cell_type": "code",
   "execution_count": 17,
   "metadata": {},
   "outputs": [
    {
     "name": "stdout",
     "output_type": "stream",
     "text": [
      "Epoch 1/20\n",
      "986/986 [==============================] - 176s 171ms/step - loss: 0.1305 - accuracy: 0.9611 - val_loss: 0.1125 - val_accuracy: 0.9640\n",
      "Epoch 2/20\n",
      "986/986 [==============================] - 173s 176ms/step - loss: 0.1065 - accuracy: 0.9661 - val_loss: 0.1209 - val_accuracy: 0.9593\n",
      "Epoch 3/20\n",
      "986/986 [==============================] - 170s 173ms/step - loss: 0.0983 - accuracy: 0.9673 - val_loss: 0.1112 - val_accuracy: 0.9653\n",
      "Epoch 4/20\n",
      "986/986 [==============================] - 170s 173ms/step - loss: 0.0881 - accuracy: 0.9714 - val_loss: 0.1027 - val_accuracy: 0.9662\n",
      "Epoch 5/20\n",
      "986/986 [==============================] - 164s 167ms/step - loss: 0.0630 - accuracy: 0.9788 - val_loss: 0.1310 - val_accuracy: 0.9640\n",
      "Epoch 6/20\n",
      "986/986 [==============================] - 170s 172ms/step - loss: 0.0500 - accuracy: 0.9830 - val_loss: 0.1187 - val_accuracy: 0.9674\n",
      "Epoch 7/20\n",
      "986/986 [==============================] - 175s 177ms/step - loss: 0.0486 - accuracy: 0.9840 - val_loss: 0.1152 - val_accuracy: 0.9686\n",
      "Epoch 8/20\n",
      "986/986 [==============================] - 167s 170ms/step - loss: 0.0483 - accuracy: 0.9840 - val_loss: 0.1017 - val_accuracy: 0.9696\n",
      "Epoch 9/20\n",
      "986/986 [==============================] - 172s 175ms/step - loss: 0.0441 - accuracy: 0.9858 - val_loss: 0.1024 - val_accuracy: 0.9716\n",
      "Epoch 10/20\n",
      "986/986 [==============================] - 172s 174ms/step - loss: 0.0318 - accuracy: 0.9905 - val_loss: 0.1065 - val_accuracy: 0.9722\n",
      "Epoch 11/20\n",
      "986/986 [==============================] - 175s 177ms/step - loss: 0.0282 - accuracy: 0.9908 - val_loss: 0.1048 - val_accuracy: 0.9722\n",
      "Epoch 12/20\n",
      "986/986 [==============================] - 170s 172ms/step - loss: 0.0285 - accuracy: 0.9906 - val_loss: 0.1064 - val_accuracy: 0.9725\n",
      "Epoch 13/20\n",
      "986/986 [==============================] - 168s 171ms/step - loss: 0.0270 - accuracy: 0.9914 - val_loss: 0.1065 - val_accuracy: 0.9717\n"
     ]
    }
   ],
   "source": [
    "# Train the model\n",
    "import math\n",
    "history = combined_model.fit(\n",
    "    train_generator,\n",
    "    steps_per_epoch=train_generator.samples // batch_size,\n",
    "    epochs=20,\n",
    "    validation_data=val_generator,\n",
    "    validation_steps=val_generator.samples // batch_size,\n",
    "    callbacks=[early_stopping, lr_callback]\n",
    ")"
   ]
  },
  {
   "cell_type": "code",
   "execution_count": 18,
   "metadata": {},
   "outputs": [
    {
     "name": "stdout",
     "output_type": "stream",
     "text": [
      "211/211 [==============================] - 31s 145ms/step - loss: 0.1109 - accuracy: 0.9664\n",
      "Test Loss: 0.11085617542266846\n",
      "Test Accuracy: 0.9663803577423096\n"
     ]
    }
   ],
   "source": [
    "test_results = combined_model.evaluate(test_generator, steps=test_generator.samples // batch_size)\n",
    "print(\"Test Loss:\", test_results[0])\n",
    "print(\"Test Accuracy:\", test_results[1])"
   ]
  },
  {
   "cell_type": "code",
   "execution_count": null,
   "metadata": {},
   "outputs": [],
   "source": [
    "combined_model.save('mobilenet_vit_model.h5')"
   ]
  },
  {
   "cell_type": "code",
   "execution_count": 20,
   "metadata": {},
   "outputs": [],
   "source": [
    "import numpy as np\n",
    "\n",
    "# Initialize lists to accumulate predictions and true labels\n",
    "all_predictions = []\n",
    "all_true_labels = []\n",
    "\n",
    "# Loop through all batches in the test generator\n",
    "for _ in range(len(test_generator)):\n",
    "    images, labels = test_generator.next()\n",
    "\n",
    "    # Predictions on the current batch\n",
    "    batch_predictions = combined_model.predict(images)\n",
    "    all_predictions.extend(batch_predictions)\n",
    "    \n",
    "    # True labels for the current batch\n",
    "    batch_true_labels = np.argmax(labels, axis=1)\n",
    "    all_true_labels.extend(batch_true_labels)\n",
    "\n",
    "# Convert lists to numpy arrays\n",
    "all_predictions = np.array(all_predictions)\n",
    "all_true_labels = np.array(all_true_labels)\n",
    "\n",
    "# Extract predicted labels from all predictions\n",
    "predicted_labels = np.argmax(all_predictions, axis=1)"
   ]
  },
  {
   "cell_type": "code",
   "execution_count": 24,
   "metadata": {},
   "outputs": [
    {
     "data": {
      "image/png": "[encoded data removed]",
      "text/plain": [
       "<Figure size 600x400 with 2 Axes>"
      ]
     },
     "metadata": {},
     "output_type": "display_data"
    }
   ],
   "source": [
    "# Confusion Matrix\n",
    "from sklearn.metrics import classification_report, confusion_matrix\n",
    "import matplotlib.pyplot as plt\n",
    "import seaborn as sns\n",
    "conf_mat = confusion_matrix(all_true_labels, predicted_labels)\n",
    "\n",
    "# Plot the confusion matrix\n",
    "class_names = ['Grassy', 'Marshy', 'Rocky', 'Sandy']  # Update with your actual class names\n",
    "plt.figure(figsize=(6, 4))\n",
    "sns.heatmap(conf_mat, annot=True, fmt='d', cmap='Blues',\n",
    "            xticklabels=class_names, yticklabels=class_names)\n",
    "plt.title('Confusion Matrix - Mobilenet VIT')\n",
    "plt.xlabel('Predicted')\n",
    "plt.ylabel('True')\n",
    "plt.show()"
   ]
  },
  {
   "cell_type": "code",
   "execution_count": 22,
   "metadata": {},
   "outputs": [
    {
     "name": "stdout",
     "output_type": "stream",
     "text": [
      "Percentage of correct predictions for Grassy: 98.03%\n",
      "Percentage of correct predictions for Marshy: 94.87%\n",
      "Percentage of correct predictions for Rocky: 94.53%\n",
      "Percentage of correct predictions for Sandy: 99.03%\n"
     ]
    }
   ],
   "source": [
    "# Calculate percentage of correct predictions for each class\n",
    "correctly_classified = np.diag(conf_mat)\n",
    "total_true_per_class = np.sum(conf_mat, axis=1)\n",
    "percentage_correct_per_class = (correctly_classified / total_true_per_class) * 100\n",
    "\n",
    "# Display the percentage of correct predictions for each class\n",
    "for i, class_name in enumerate(class_names):\n",
    "    print(f'Percentage of correct predictions for {class_name}: {percentage_correct_per_class[i]:.2f}%')\n"
   ]
  },
  {
   "cell_type": "code",
   "execution_count": 23,
   "metadata": {},
   "outputs": [
    {
     "data": {
      "image/png": "[encoded data removed]",
      "text/plain": [
       "<Figure size 1000x600 with 1 Axes>"
      ]
     },
     "metadata": {},
     "output_type": "display_data"
    }
   ],
   "source": [
    "class_names = ['Grassy', 'Marshy', 'Rocky', 'Sandy']  # Update with your actual class names\n",
    "\n",
    "# Print the number of images classified correctly and wrongly in each class\n",
    "correctly_classified = np.diag(conf_mat)\n",
    "wrongly_classified = np.sum(conf_mat, axis=1) - correctly_classified\n",
    "\n",
    "# Total number of images in each class\n",
    "total_images_per_class = np.sum(conf_mat, axis=1)\n",
    "\n",
    "x = np.arange(len(class_names))\n",
    "width = 0.25\n",
    "\n",
    "fig, ax = plt.subplots(figsize=(10, 6))\n",
    "\n",
    "rects1 = ax.bar(x - width, total_images_per_class, width, label='Total Images')\n",
    "rects2 = ax.bar(x, correctly_classified, width, label='Correct Predictions')\n",
    "rects3 = ax.bar(x + width, wrongly_classified, width, label='Wrong Predictions')\n",
    "\n",
    "ax.set_xlabel('Classes')\n",
    "ax.set_ylabel('Number of Images')\n",
    "ax.set_title('Total, Correct, and Wrong Predictions per Class - Mobilenet VIT')\n",
    "ax.set_xticks(x)\n",
    "ax.set_xticklabels(class_names)\n",
    "ax.legend()\n",
    "\n",
    "# Display the number of images on top of each bar with proper spacing\n",
    "def autolabel(rects):\n",
    "    for rect in rects:\n",
    "        height = rect.get_height()\n",
    "        ax.annotate('{}'.format(height),\n",
    "                    xy=(rect.get_x() + rect.get_width() / 2, height),\n",
    "                    xytext=(0, 3),  # 3 points vertical offset\n",
    "                    textcoords=\"offset points\",\n",
    "                    ha='center', va='bottom')\n",
    "\n",
    "autolabel(rects1)\n",
    "autolabel(rects2)\n",
    "autolabel(rects3)\n",
    "\n",
    "# Adjust layout to prevent overlapping\n",
    "plt.tight_layout(rect=[0, 0, 1, 1.3])  # Increase the value in the last argument if necessary\n",
    "\n",
    "plt.show()"
   ]
  },
  {
   "cell_type": "code",
   "execution_count": 1,
   "metadata": {},
   "outputs": [
    {
     "name": "stdout",
     "output_type": "stream",
     "text": [
      "Class-wise Accuracy:\n",
      "\tGrassy: 0.9485\n",
      "\tMarshy: 0.8891\n",
      "\tRocky: 0.9234\n",
      "\tSandy: 0.9807\n",
      "\n",
      "Classification Report:\n",
      "             Precision    Recall  F1-Score   Support\n",
      "Grassy          0.9670  0.9803  0.9736         1849\n",
      "Marshy          0.9340  0.9487  0.9413         1683\n",
      "Rocky           0.9755  0.9453  0.9601         1593\n",
      "Sandy           0.9903  0.9903  0.9903         1644\n",
      "accuracy         0.9665        6769\n",
      "\n",
      "\n",
      "Macro Average (requires FN values):\n",
      "\tPrecision: 0.9667\n",
      "\tRecall: 46.7944\n",
      "\tF1-Score: 1.8943\n",
      "None\n"
     ]
    }
   ],
   "source": [
    "import numpy as np\n",
    "\n",
    "def calculate_metrics_and_report(confusion_matrix, class_names, total_per_class):\n",
    "  \"\"\"\n",
    "  This function calculates and displays various metrics and a classification report.\n",
    "\n",
    "  Args:\n",
    "      confusion_matrix: A numpy array representing the confusion matrix.\n",
    "      class_names: A list containing the names of the classes.\n",
    "      total_per_class (optional): A list containing the total number of images per class \n",
    "                                    (if available). Used to estimate FN_X.\n",
    "\n",
    "  Returns:\n",
    "      None (prints the metrics and report to the console).\n",
    "  \"\"\"\n",
    "\n",
    "  # Calculate class-wise elements\n",
    "  TP = np.diag(confusion_matrix)  # True positives (diagonal elements)\n",
    "  FP = confusion_matrix.sum(axis=0) - TP  # False positives (row sums minus diagonals)\n",
    "  FN = confusion_matrix.sum(axis=1) - TP  # False negatives (column sums minus diagonals)\n",
    "  TN = confusion_matrix.sum() - (TP + FP + FN)  # True negatives (all elements minus TP, FP, FN)\n",
    "\n",
    "  # Calculate totals\n",
    "  total_support = confusion_matrix.sum(axis=0)  # Total predicted instances per class\n",
    "  total_ground_truth = confusion_matrix.sum(axis=1)  # Total true instances per class\n",
    "\n",
    "  # Calculate class-wise accuracy\n",
    "  class_wise_accuracy = TP / (TP + FP + FN)\n",
    "\n",
    "  # Macro-average (requires FN values)\n",
    "  if total_per_class is not None:\n",
    "      # Estimate FN_X if total images per class are provided\n",
    "      FN_X = total_per_class - TP\n",
    "      macro_precision = np.mean(TP / (TP + FP))\n",
    "      macro_recall = np.mean(TP / FN_X)\n",
    "      macro_f1 = np.mean(2 * (macro_precision * macro_recall) / (macro_precision + macro_recall))\n",
    "  else:\n",
    "      macro_precision = np.nan\n",
    "      macro_recall = np.nan\n",
    "      macro_f1 = np.nan\n",
    "\n",
    "  # Micro-average\n",
    "  micro_precision = TP.sum() / (TP.sum() + FP.sum())\n",
    "  micro_recall = TP.sum() / (TP.sum() + FN.sum()) if total_per_class is not None else np.nan  # Avoid division by zero\n",
    "  micro_f1 = 2 * (micro_precision * micro_recall) / (micro_precision + micro_recall)\n",
    "\n",
    "  # Build the classification report string\n",
    "  report = \"             Precision    Recall  F1-Score   Support\\n\"\n",
    "  for i, class_name in enumerate(class_names):\n",
    "      precision = TP[i] / (TP[i] + FP[i]) if (TP[i] + FP[i]) > 0 else 0.0\n",
    "      recall = TP[i] / (TP[i] + FN[i]) if (TP[i] + FN[i]) > 0 else 0.0\n",
    "      f1 = 2 * (precision * recall) / (precision + recall) if (precision + recall) > 0 else 0.0\n",
    "      support = total_predicted_instances = total_support[i]\n",
    "      report += f\"{class_name:14}  {precision:.4f}  {recall:.4f}  {f1:.4f}         {support}\\n\"\n",
    "\n",
    "  # Add support for all classes\n",
    "  report += f\"accuracy         {TP.sum() / confusion_matrix.sum():.4f}        {total_ground_truth.sum()}\\n\"\n",
    "\n",
    "  # Print results\n",
    "  print(\"Class-wise Accuracy:\")\n",
    "  for i, class_name in enumerate(class_names):\n",
    "      print(f\"\\t{class_name}: {class_wise_accuracy[i]:.4f}\")\n",
    "  print(\"\\nClassification Report:\")\n",
    "  print(report)\n",
    "\n",
    "  print(\"\\nMacro Average (requires FN values):\")\n",
    "  print(f\"\\tPrecision: {macro_precision:.4f}\")\n",
    "  print(f\"\\tRecall: {macro_recall:.4f}\")  # Print NaN if FN_X not available\n",
    "  print(f\"\\tF1-Score: {macro_f1:.4f}\")  # Print NaN if FN_X not\n",
    "\n",
    "\n",
    "# Example usage\n",
    "confusion_matrix = np.array([[1788, 30, 5, 1],\n",
    "                             [49, 1572, 26, 10],\n",
    "                             [10, 75, 1554, 5],\n",
    "                             [2, 6, 8, 1628]])\n",
    "\n",
    "class_names = [\"Grassy\", \"Marshy\", \"Rocky\", \"Sandy\"]\n",
    "# Example: Assuming you have total images per class (replace with your actual values)\n",
    "total_per_class = [1824, 1657, 1644, 1644]\n",
    "\n",
    "report = calculate_metrics_and_report(confusion_matrix, class_names,total_per_class)\n",
    "print(report)"
   ]
  }
 ],
 "metadata": {
  "kernelspec": {
   "display_name": "suresh",
   "language": "python",
   "name": "python3"
  },
  "language_info": {
   "codemirror_mode": {
    "name": "ipython",
    "version": 3
   },
   "file_extension": ".py",
   "mimetype": "text/x-python",
   "name": "python",
   "nbconvert_exporter": "python",
   "pygments_lexer": "ipython3",
   "version": "3.12.0"
  }
 },
 "nbformat": 4,
 "nbformat_minor": 2
}
