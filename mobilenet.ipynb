{
 "cells": [
  {
   "cell_type": "code",
   "execution_count": 1,
   "metadata": {},
   "outputs": [],
   "source": [
    "import numpy as np\n",
    "import matplotlib.pyplot as plt\n",
    "%matplotlib inline\n",
    "import os\n",
    "\n",
    "import glob as gb\n",
    "import pandas as pd\n",
    "import seaborn as sns\n",
    "import matplotlib.image as mpimg\n",
    "\n",
    "from PIL import Image\n",
    "\n",
    "import tensorflow as tf\n",
    "from tensorflow import keras\n",
    "from tensorflow.keras import layers\n",
    "\n",
    "from keras.preprocessing.image import ImageDataGenerator\n",
    "from keras.callbacks import ReduceLROnPlateau\n",
    "from keras.callbacks import EarlyStopping\n",
    "from sklearn.model_selection import train_test_split\n",
    "from sklearn.metrics import confusion_matrix\n",
    "\n",
    "from keras.applications import VGG16\n",
    "from keras.applications import ResNet101\n",
    "from keras.applications import MobileNet\n",
    "\n",
    "from keras.models import Sequential\n",
    "from keras.layers import Dense, GlobalAveragePooling2D\n",
    "from keras.optimizers import Adam\n",
    "from tensorflow.keras.layers import Conv2D, MaxPooling2D, Flatten, Dense, Dropout"
   ]
  },
  {
   "cell_type": "code",
   "execution_count": 2,
   "metadata": {},
   "outputs": [],
   "source": [
    "train_path = 'train'\n",
    "test_path = 'test'\n",
    "val_path = 'val'"
   ]
  },
  {
   "cell_type": "code",
   "execution_count": 3,
   "metadata": {},
   "outputs": [],
   "source": [
    "\n",
    "train_datagen = ImageDataGenerator(\n",
    "    rescale=1.0/255,                # Rescale pixel values to [0, 1]\n",
    "    \n",
    ")"
   ]
  },
  {
   "cell_type": "code",
   "execution_count": 4,
   "metadata": {},
   "outputs": [],
   "source": [
    "size_images = 150\n",
    "batch_size = 32"
   ]
  },
  {
   "cell_type": "code",
   "execution_count": 5,
   "metadata": {},
   "outputs": [
    {
     "name": "stdout",
     "output_type": "stream",
     "text": [
      "Found 31571 images belonging to 4 classes.\n"
     ]
    }
   ],
   "source": [
    "train_generator = train_datagen.flow_from_directory(\n",
    "    train_path,                     # Path to the training data\n",
    "    target_size=(size_images, size_images),  # Resize images to this size\n",
    "    batch_size = batch_size,        # Number of images in each batch\n",
    "    class_mode ='categorical'       # Mode for class labels (categorical for one-hot encoding)\n",
    ")"
   ]
  },
  {
   "cell_type": "code",
   "execution_count": 6,
   "metadata": {},
   "outputs": [],
   "source": [
    "test_datagen = ImageDataGenerator(rescale=1.0/255)"
   ]
  },
  {
   "cell_type": "code",
   "execution_count": 7,
   "metadata": {},
   "outputs": [
    {
     "name": "stdout",
     "output_type": "stream",
     "text": [
      "Found 6769 images belonging to 4 classes.\n"
     ]
    }
   ],
   "source": [
    "test_generator = test_datagen.flow_from_directory(\n",
    "    test_path,\n",
    "    target_size=(size_images, size_images),\n",
    "    batch_size = batch_size,\n",
    "    class_mode='categorical')"
   ]
  },
  {
   "cell_type": "code",
   "execution_count": 8,
   "metadata": {},
   "outputs": [],
   "source": [
    "val_datagen = ImageDataGenerator(rescale=1.0/255)"
   ]
  },
  {
   "cell_type": "code",
   "execution_count": 9,
   "metadata": {},
   "outputs": [
    {
     "name": "stdout",
     "output_type": "stream",
     "text": [
      "Found 6765 images belonging to 4 classes.\n"
     ]
    }
   ],
   "source": [
    "\n",
    "val_generator = val_datagen.flow_from_directory(\n",
    "    val_path,\n",
    "    target_size=(size_images, size_images),\n",
    "    batch_size=batch_size,\n",
    "    class_mode='categorical'\n",
    ")"
   ]
  },
  {
   "cell_type": "code",
   "execution_count": 10,
   "metadata": {},
   "outputs": [
    {
     "name": "stdout",
     "output_type": "stream",
     "text": [
      "WARNING:tensorflow:`input_shape` is undefined or non-square, or `rows` is not in [128, 160, 192, 224]. Weights for input shape (224, 224) will be loaded as the default.\n"
     ]
    },
    {
     "name": "stderr",
     "output_type": "stream",
     "text": [
      "c:\\Users\\AILABSERVER\\anaconda3\\envs\\suresh\\lib\\site-packages\\tensorflow\\python\\keras\\optimizer_v2\\optimizer_v2.py:374: UserWarning: The `lr` argument is deprecated, use `learning_rate` instead.\n",
      "  warnings.warn(\n"
     ]
    },
    {
     "name": "stdout",
     "output_type": "stream",
     "text": [
      "Model: \"sequential\"\n",
      "_________________________________________________________________\n",
      "Layer (type)                 Output Shape              Param #   \n",
      "=================================================================\n",
      "mobilenet_1.00_224 (Function (None, 4, 4, 1024)        3228864   \n",
      "_________________________________________________________________\n",
      "global_average_pooling2d (Gl (None, 1024)              0         \n",
      "_________________________________________________________________\n",
      "dense (Dense)                (None, 256)               262400    \n",
      "_________________________________________________________________\n",
      "dropout (Dropout)            (None, 256)               0         \n",
      "_________________________________________________________________\n",
      "dense_1 (Dense)              (None, 128)               32896     \n",
      "_________________________________________________________________\n",
      "dropout_1 (Dropout)          (None, 128)               0         \n",
      "_________________________________________________________________\n",
      "dense_2 (Dense)              (None, 64)                8256      \n",
      "_________________________________________________________________\n",
      "dropout_2 (Dropout)          (None, 64)                0         \n",
      "_________________________________________________________________\n",
      "dense_3 (Dense)              (None, 4)                 260       \n",
      "=================================================================\n",
      "Total params: 3,532,676\n",
      "Trainable params: 303,812\n",
      "Non-trainable params: 3,228,864\n",
      "_________________________________________________________________\n",
      "Epoch 1/20\n",
      "986/986 [==============================] - 966s 970ms/step - loss: 0.5367 - accuracy: 0.8003 - val_loss: 0.2253 - val_accuracy: 0.9211\n",
      "Epoch 2/20\n",
      "986/986 [==============================] - 165s 167ms/step - loss: 0.2731 - accuracy: 0.9071 - val_loss: 0.1704 - val_accuracy: 0.9422\n",
      "Epoch 3/20\n",
      "986/986 [==============================] - 167s 169ms/step - loss: 0.2145 - accuracy: 0.9277 - val_loss: 0.1449 - val_accuracy: 0.9504\n",
      "Epoch 4/20\n",
      "986/986 [==============================] - 167s 170ms/step - loss: 0.1776 - accuracy: 0.9399 - val_loss: 0.1629 - val_accuracy: 0.9455\n",
      "Epoch 5/20\n",
      "986/986 [==============================] - 169s 172ms/step - loss: 0.1297 - accuracy: 0.9568 - val_loss: 0.1147 - val_accuracy: 0.9613\n",
      "Epoch 6/20\n",
      "986/986 [==============================] - 164s 167ms/step - loss: 0.1123 - accuracy: 0.9633 - val_loss: 0.1080 - val_accuracy: 0.9645\n",
      "Epoch 7/20\n",
      "986/986 [==============================] - 168s 170ms/step - loss: 0.1004 - accuracy: 0.9672 - val_loss: 0.1071 - val_accuracy: 0.9668\n",
      "Epoch 8/20\n",
      "986/986 [==============================] - 170s 173ms/step - loss: 0.0934 - accuracy: 0.9688 - val_loss: 0.1078 - val_accuracy: 0.9648\n",
      "Epoch 9/20\n",
      "986/986 [==============================] - 169s 172ms/step - loss: 0.0862 - accuracy: 0.9734 - val_loss: 0.1022 - val_accuracy: 0.9668\n",
      "Epoch 10/20\n",
      "986/986 [==============================] - 170s 172ms/step - loss: 0.0621 - accuracy: 0.9800 - val_loss: 0.1029 - val_accuracy: 0.9690\n",
      "Epoch 11/20\n",
      "986/986 [==============================] - 166s 168ms/step - loss: 0.0523 - accuracy: 0.9830 - val_loss: 0.1076 - val_accuracy: 0.9696\n",
      "Epoch 12/20\n",
      "986/986 [==============================] - 168s 171ms/step - loss: 0.0513 - accuracy: 0.9832 - val_loss: 0.1105 - val_accuracy: 0.9692\n",
      "Epoch 13/20\n",
      "986/986 [==============================] - 168s 171ms/step - loss: 0.0489 - accuracy: 0.9833 - val_loss: 0.1045 - val_accuracy: 0.9702\n",
      "Epoch 14/20\n",
      "986/986 [==============================] - 171s 173ms/step - loss: 0.0429 - accuracy: 0.9867 - val_loss: 0.1201 - val_accuracy: 0.9696\n"
     ]
    }
   ],
   "source": [
    "from tensorflow.keras.models import Sequential\n",
    "from tensorflow.keras.layers import Dense, GlobalAveragePooling2D, Dropout\n",
    "from tensorflow.keras.optimizers import Adam\n",
    "from tensorflow.keras.callbacks import EarlyStopping, LearningRateScheduler\n",
    "import math\n",
    "\n",
    "# Build MobileNet model\n",
    "mobilenet_model = MobileNet(weights='imagenet', include_top=False, input_shape=(size_images, size_images, 3))\n",
    "\n",
    "# Create a new model\n",
    "model = Sequential()\n",
    "model.add(mobilenet_model)\n",
    "model.add(GlobalAveragePooling2D())\n",
    "model.add(Dense(256, activation='relu'))\n",
    "model.add(Dropout(0.5))  # Add dropout for regularization\n",
    "model.add(Dense(128, activation='relu'))\n",
    "model.add(Dropout(0.5))  # Add dropout for regularization\n",
    "model.add(Dense(64, activation='relu'))\n",
    "model.add(Dropout(0.5))  # Add dropout for regularization\n",
    "model.add(Dense(4, activation='softmax'))  # Assuming num_classes is the number of your classes\n",
    "\n",
    "# Freeze the layers of the pre-trained model\n",
    "for layer in mobilenet_model.layers:\n",
    "    layer.trainable = False\n",
    "\n",
    "# Define a learning rate schedule function\n",
    "def lr_schedule(epoch):\n",
    "    initial_lr = 0.001\n",
    "    drop = 0.5\n",
    "    epochs_drop = 5\n",
    "    lr = initial_lr * math.pow(drop, math.floor((1+epoch)/epochs_drop))\n",
    "    return lr\n",
    "\n",
    "# Compile the model with an initial learning rate\n",
    "model.compile(optimizer=Adam(lr=0.001), loss='categorical_crossentropy', metrics=['accuracy'])\n",
    "\n",
    "model.summary()\n",
    "\n",
    "# Set up callbacks\n",
    "early_stopping = EarlyStopping(monitor='val_loss', patience=5, restore_best_weights=True)\n",
    "\n",
    "# Use the LearningRateScheduler callback\n",
    "lr_callback = LearningRateScheduler(lr_schedule)\n",
    "\n",
    "# Train the model\n",
    "history = model.fit(\n",
    "    train_generator,\n",
    "    steps_per_epoch=train_generator.samples // batch_size,\n",
    "    epochs=20,\n",
    "    validation_data=val_generator,\n",
    "    validation_steps=val_generator.samples // batch_size,\n",
    "    callbacks=[early_stopping, lr_callback]\n",
    ")"
   ]
  },
  {
   "cell_type": "code",
   "execution_count": 11,
   "metadata": {},
   "outputs": [],
   "source": [
    "# Save the model\n",
    "model.save('mobilenet_model.h5')"
   ]
  },
  {
   "cell_type": "code",
   "execution_count": 12,
   "metadata": {},
   "outputs": [
    {
     "name": "stdout",
     "output_type": "stream",
     "text": [
      "211/211 [==============================] - 178s 846ms/step - loss: 0.1120 - accuracy: 0.9648\n",
      "Test Loss: 0.11201353371143341\n",
      "Test Accuracy: 0.9647511839866638\n"
     ]
    }
   ],
   "source": [
    "# Evaluate the model on the test set\n",
    "test_results = model.evaluate(test_generator, steps=test_generator.samples // batch_size)\n",
    "print(\"Test Loss:\", test_results[0])\n",
    "print(\"Test Accuracy:\", test_results[1])"
   ]
  },
  {
   "cell_type": "code",
   "execution_count": 13,
   "metadata": {},
   "outputs": [
    {
     "name": "stdout",
     "output_type": "stream",
     "text": [
      "Found 6769 images belonging to 4 classes.\n"
     ]
    }
   ],
   "source": [
    "import os\n",
    "import numpy as np\n",
    "import matplotlib.pyplot as plt\n",
    "import seaborn as sns\n",
    "from sklearn.metrics import classification_report, confusion_matrix\n",
    "from tensorflow.keras.models import load_model\n",
    "\n",
    "# Load the saved model\n",
    "loaded_model = load_model('mobilenet_model.h5')\n",
    "\n",
    "# Create a test generator for the test set\n",
    "test_generator = test_datagen.flow_from_directory(\n",
    "    test_path,\n",
    "    target_size=(size_images, size_images),\n",
    "    batch_size=batch_size,\n",
    "    class_mode='categorical',\n",
    "    shuffle=False  # Important to keep the order for evaluation\n",
    ")\n",
    "\n",
    "# Initialize lists to accumulate predictions and true labels\n",
    "all_predictions = []\n",
    "all_true_labels = []\n",
    "\n",
    "# Loop through all batches in the test generator\n",
    "for _ in range(len(test_generator)):\n",
    "    images, labels = test_generator.next()\n",
    "\n",
    "    # Predictions on the current batch\n",
    "    batch_predictions = loaded_model.predict(images)\n",
    "    all_predictions.extend(batch_predictions)\n",
    "    \n",
    "    # True labels for the current batch\n",
    "    batch_true_labels = np.argmax(labels, axis=1)\n",
    "    all_true_labels.extend(batch_true_labels)\n",
    "\n",
    "# Convert lists to numpy arrays\n",
    "all_predictions = np.array(all_predictions)\n",
    "all_true_labels = np.array(all_true_labels)\n",
    "\n",
    "# Extract predicted labels from all predictions\n",
    "predicted_labels = np.argmax(all_predictions, axis=1)\n",
    "\n",
    "\n"
   ]
  },
  {
   "cell_type": "code",
   "execution_count": 14,
   "metadata": {},
   "outputs": [
    {
     "data": {
      "image/png": "[encoded data removed]",
      "text/plain": [
       "<Figure size 600x400 with 2 Axes>"
      ]
     },
     "metadata": {},
     "output_type": "display_data"
    }
   ],
   "source": [
    "# Confusion Matrix\n",
    "conf_mat = confusion_matrix(all_true_labels, predicted_labels)\n",
    "\n",
    "# Plot the confusion matrix\n",
    "class_names = ['Grassy', 'Marshy', 'Rocky', 'Sandy']  # Update with your actual class names\n",
    "plt.figure(figsize=(6, 4))\n",
    "sns.heatmap(conf_mat, annot=True, fmt='d', cmap='Blues',\n",
    "            xticklabels=class_names, yticklabels=class_names)\n",
    "plt.title('Confusion Matrix - MobileNet')\n",
    "plt.xlabel('Predicted')\n",
    "plt.ylabel('True')\n",
    "plt.show()\n"
   ]
  },
  {
   "cell_type": "code",
   "execution_count": 15,
   "metadata": {},
   "outputs": [
    {
     "name": "stdout",
     "output_type": "stream",
     "text": [
      "Classification Report of MobileNet:\n",
      "              precision    recall  f1-score   support\n",
      "\n",
      "      Grassy       0.96      0.98      0.97      1824\n",
      "      Marshy       0.95      0.92      0.94      1657\n",
      "       Rocky       0.97      0.96      0.96      1644\n",
      "       Sandy       0.98      0.99      0.99      1644\n",
      "\n",
      "    accuracy                           0.96      6769\n",
      "   macro avg       0.96      0.96      0.96      6769\n",
      "weighted avg       0.96      0.96      0.96      6769\n",
      "\n"
     ]
    }
   ],
   "source": [
    "# Classification Report\n",
    "print(\"Classification Report of MobileNet:\")\n",
    "print(classification_report(all_true_labels, predicted_labels, target_names=class_names))"
   ]
  },
  {
   "cell_type": "code",
   "execution_count": 16,
   "metadata": {},
   "outputs": [
    {
     "data": {
      "image/png": "[encoded data removed]",
      "text/plain": [
       "<Figure size 1000x600 with 1 Axes>"
      ]
     },
     "metadata": {},
     "output_type": "display_data"
    }
   ],
   "source": [
    "class_names = ['Grassy', 'Marshy', 'Rocky', 'Sandy']  # Update with your actual class names\n",
    "\n",
    "# Print the number of images classified correctly and wrongly in each class\n",
    "correctly_classified = np.diag(conf_mat)\n",
    "wrongly_classified = np.sum(conf_mat, axis=1) - correctly_classified\n",
    "\n",
    "# Total number of images in each class\n",
    "total_images_per_class = np.sum(conf_mat, axis=1)\n",
    "\n",
    "x = np.arange(len(class_names))\n",
    "width = 0.25\n",
    "\n",
    "fig, ax = plt.subplots(figsize=(10, 6))\n",
    "\n",
    "rects1 = ax.bar(x - width, total_images_per_class, width, label='Total Images')\n",
    "rects2 = ax.bar(x, correctly_classified, width, label='Correct Predictions')\n",
    "rects3 = ax.bar(x + width, wrongly_classified, width, label='Wrong Predictions')\n",
    "\n",
    "ax.set_xlabel('Classes')\n",
    "ax.set_ylabel('Number of Images')\n",
    "ax.set_title('Total, Correct, and Wrong Predictions per Class -MobileNet')\n",
    "ax.set_xticks(x)\n",
    "ax.set_xticklabels(class_names)\n",
    "ax.legend()\n",
    "\n",
    "# Display the number of images on top of each bar with proper spacing\n",
    "def autolabel(rects):\n",
    "    for rect in rects:\n",
    "        height = rect.get_height()\n",
    "        ax.annotate('{}'.format(height),\n",
    "                    xy=(rect.get_x() + rect.get_width() / 2, height),\n",
    "                    xytext=(0, 3),  # 3 points vertical offset\n",
    "                    textcoords=\"offset points\",\n",
    "                    ha='center', va='bottom')\n",
    "\n",
    "autolabel(rects1)\n",
    "autolabel(rects2)\n",
    "autolabel(rects3)\n",
    "\n",
    "# Adjust layout to prevent overlapping\n",
    "plt.tight_layout(rect=[0, 0, 1, 1.3])  # Increase the value in the last argument if necessary\n",
    "\n",
    "plt.show()"
   ]
  },
  {
   "cell_type": "code",
   "execution_count": 17,
   "metadata": {},
   "outputs": [
    {
     "data": {
      "image/png": "[encoded data removed]",
      "text/plain": [
       "<Figure size 640x480 with 1 Axes>"
      ]
     },
     "metadata": {},
     "output_type": "display_data"
    },
    {
     "data": {
      "image/png": "[encoded data removed]",
      "text/plain": [
       "<Figure size 640x480 with 1 Axes>"
      ]
     },
     "metadata": {},
     "output_type": "display_data"
    }
   ],
   "source": [
    "import matplotlib.pyplot as plt\n",
    "\n",
    "# Assuming 'history' is the object you get after training your DenseNet model\n",
    "# Replace 'history' with the actual variable name you have\n",
    "\n",
    "# Plot training & validation accuracy values\n",
    "plt.plot(history.history['accuracy'])\n",
    "plt.plot(history.history['val_accuracy'])\n",
    "plt.title('MobileNet Model accuracy')\n",
    "plt.ylabel('Accuracy')\n",
    "plt.xlabel('Epoch')\n",
    "plt.legend(['Train', 'Validation'], loc='upper left')\n",
    "plt.show()\n",
    "\n",
    "# Plot training & validation loss values\n",
    "plt.plot(history.history['loss'])\n",
    "plt.plot(history.history['val_loss'])\n",
    "plt.title('MobileNet Model loss')\n",
    "plt.ylabel('Loss')\n",
    "plt.xlabel('Epoch')\n",
    "plt.legend(['Train', 'Validation'], loc='upper left')\n",
    "plt.show()\n"
   ]
  },
  {
   "cell_type": "code",
   "execution_count": 1,
   "metadata": {},
   "outputs": [
    {
     "name": "stdout",
     "output_type": "stream",
     "text": [
      "Class-wise Accuracy:\n",
      "\tGrassy: 0.9467\n",
      "\tMarshy: 0.8794\n",
      "\tRocky: 0.9264\n",
      "\tSandy: 0.9749\n",
      "\n",
      "Classification Report:\n",
      "             Precision    Recall  F1-Score   Support\n",
      "Grassy          0.9624  0.9830  0.9726         1863\n",
      "Marshy          0.9474  0.9246  0.9359         1617\n",
      "Rocky           0.9662  0.9574  0.9618         1629\n",
      "Sandy           0.9825  0.9921  0.9873         1660\n",
      "accuracy         0.9647        6769\n",
      "\n",
      "\n",
      "Macro Average (requires FN values):\n",
      "\tPrecision: 0.9647\n",
      "\tRecall: 54.5105\n",
      "\tF1-Score: 1.8958\n",
      "None\n"
     ]
    }
   ],
   "source": [
    "import numpy as np\n",
    "\n",
    "def calculate_metrics_and_report(confusion_matrix, class_names, total_per_class):\n",
    "  \"\"\"\n",
    "  This function calculates and displays various metrics and a classification report.\n",
    "\n",
    "  Args:\n",
    "      confusion_matrix: A numpy array representing the confusion matrix.\n",
    "      class_names: A list containing the names of the classes.\n",
    "      total_per_class (optional): A list containing the total number of images per class \n",
    "                                    (if available). Used to estimate FN_X.\n",
    "\n",
    "  Returns:\n",
    "      None (prints the metrics and report to the console).\n",
    "  \"\"\"\n",
    "\n",
    "  # Calculate class-wise elements\n",
    "  TP = np.diag(confusion_matrix)  # True positives (diagonal elements)\n",
    "  FP = confusion_matrix.sum(axis=0) - TP  # False positives (row sums minus diagonals)\n",
    "  FN = confusion_matrix.sum(axis=1) - TP  # False negatives (column sums minus diagonals)\n",
    "  TN = confusion_matrix.sum() - (TP + FP + FN)  # True negatives (all elements minus TP, FP, FN)\n",
    "\n",
    "  # Calculate totals\n",
    "  total_support = confusion_matrix.sum(axis=0)  # Total predicted instances per class\n",
    "  total_ground_truth = confusion_matrix.sum(axis=1)  # Total true instances per class\n",
    "\n",
    "  # Calculate class-wise accuracy\n",
    "  class_wise_accuracy = TP / (TP + FP + FN)\n",
    "\n",
    "  # Macro-average (requires FN values)\n",
    "  if total_per_class is not None:\n",
    "      # Estimate FN_X if total images per class are provided\n",
    "      FN_X = total_per_class - TP\n",
    "      macro_precision = np.mean(TP / (TP + FP))\n",
    "      macro_recall = np.mean(TP / FN_X)\n",
    "      macro_f1 = np.mean(2 * (macro_precision * macro_recall) / (macro_precision + macro_recall))\n",
    "  else:\n",
    "      macro_precision = np.nan\n",
    "      macro_recall = np.nan\n",
    "      macro_f1 = np.nan\n",
    "\n",
    "  # Micro-average\n",
    "  micro_precision = TP.sum() / (TP.sum() + FP.sum())\n",
    "  micro_recall = TP.sum() / (TP.sum() + FN.sum()) if total_per_class is not None else np.nan  # Avoid division by zero\n",
    "  micro_f1 = 2 * (micro_precision * micro_recall) / (micro_precision + micro_recall)\n",
    "\n",
    "  # Build the classification report string\n",
    "  report = \"             Precision    Recall  F1-Score   Support\\n\"\n",
    "  for i, class_name in enumerate(class_names):\n",
    "      precision = TP[i] / (TP[i] + FP[i]) if (TP[i] + FP[i]) > 0 else 0.0\n",
    "      recall = TP[i] / (TP[i] + FN[i]) if (TP[i] + FN[i]) > 0 else 0.0\n",
    "      f1 = 2 * (precision * recall) / (precision + recall) if (precision + recall) > 0 else 0.0\n",
    "      support = total_predicted_instances = total_support[i]\n",
    "      report += f\"{class_name:14}  {precision:.4f}  {recall:.4f}  {f1:.4f}         {support}\\n\"\n",
    "\n",
    "  # Add support for all classes\n",
    "  report += f\"accuracy         {TP.sum() / confusion_matrix.sum():.4f}        {total_ground_truth.sum()}\\n\"\n",
    "\n",
    "  # Print results\n",
    "  print(\"Class-wise Accuracy:\")\n",
    "  for i, class_name in enumerate(class_names):\n",
    "      print(f\"\\t{class_name}: {class_wise_accuracy[i]:.4f}\")\n",
    "  print(\"\\nClassification Report:\")\n",
    "  print(report)\n",
    "\n",
    "  print(\"\\nMacro Average (requires FN values):\")\n",
    "  print(f\"\\tPrecision: {macro_precision:.4f}\")\n",
    "  print(f\"\\tRecall: {macro_recall:.4f}\")  # Print NaN if FN_X not available\n",
    "  print(f\"\\tF1-Score: {macro_f1:.4f}\")  # Print NaN if FN_X not\n",
    "\n",
    "\n",
    "# Example usage\n",
    "confusion_matrix = np.array([[1793, 26, 4, 1],\n",
    "                             [63, 1532, 46, 16],\n",
    "                             [4, 54, 1574, 12],\n",
    "                             [3, 5, 5, 1631]])\n",
    "\n",
    "class_names = [\"Grassy\", \"Marshy\", \"Rocky\", \"Sandy\"]\n",
    "# Example: Assuming you have total images per class (replace with your actual values)\n",
    "total_per_class = [1824, 1657, 1644, 1644]\n",
    "\n",
    "report = calculate_metrics_and_report(confusion_matrix, class_names,total_per_class)\n",
    "print(report)"
   ]
  },
  {
   "cell_type": "code",
   "execution_count": null,
   "metadata": {},
   "outputs": [],
   "source": []
  },
  {
   "cell_type": "code",
   "execution_count": null,
   "metadata": {},
   "outputs": [],
   "source": []
  },
  {
   "cell_type": "code",
   "execution_count": null,
   "metadata": {},
   "outputs": [],
   "source": []
  },
  {
   "cell_type": "code",
   "execution_count": null,
   "metadata": {},
   "outputs": [],
   "source": []
  },
  {
   "cell_type": "code",
   "execution_count": null,
   "metadata": {},
   "outputs": [],
   "source": []
  },
  {
   "cell_type": "code",
   "execution_count": null,
   "metadata": {},
   "outputs": [],
   "source": []
  },
  {
   "cell_type": "code",
   "execution_count": null,
   "metadata": {},
   "outputs": [],
   "source": []
  },
  {
   "cell_type": "code",
   "execution_count": null,
   "metadata": {},
   "outputs": [],
   "source": []
  },
  {
   "cell_type": "code",
   "execution_count": null,
   "metadata": {},
   "outputs": [],
   "source": []
  },
  {
   "cell_type": "code",
   "execution_count": null,
   "metadata": {},
   "outputs": [],
   "source": []
  },
  {
   "cell_type": "code",
   "execution_count": null,
   "metadata": {},
   "outputs": [],
   "source": []
  },
  {
   "cell_type": "code",
   "execution_count": null,
   "metadata": {},
   "outputs": [],
   "source": []
  },
  {
   "cell_type": "code",
   "execution_count": null,
   "metadata": {},
   "outputs": [],
   "source": []
  },
  {
   "cell_type": "code",
   "execution_count": null,
   "metadata": {},
   "outputs": [],
   "source": []
  },
  {
   "cell_type": "code",
   "execution_count": null,
   "metadata": {},
   "outputs": [],
   "source": []
  },
  {
   "cell_type": "code",
   "execution_count": null,
   "metadata": {},
   "outputs": [],
   "source": []
  },
  {
   "cell_type": "code",
   "execution_count": null,
   "metadata": {},
   "outputs": [],
   "source": []
  },
  {
   "cell_type": "code",
   "execution_count": null,
   "metadata": {},
   "outputs": [],
   "source": []
  },
  {
   "cell_type": "code",
   "execution_count": null,
   "metadata": {},
   "outputs": [],
   "source": []
  },
  {
   "cell_type": "code",
   "execution_count": null,
   "metadata": {},
   "outputs": [],
   "source": []
  },
  {
   "cell_type": "code",
   "execution_count": null,
   "metadata": {},
   "outputs": [],
   "source": []
  },
  {
   "cell_type": "code",
   "execution_count": null,
   "metadata": {},
   "outputs": [],
   "source": []
  },
  {
   "cell_type": "code",
   "execution_count": null,
   "metadata": {},
   "outputs": [],
   "source": []
  },
  {
   "cell_type": "code",
   "execution_count": null,
   "metadata": {},
   "outputs": [],
   "source": []
  },
  {
   "cell_type": "code",
   "execution_count": null,
   "metadata": {},
   "outputs": [],
   "source": []
  },
  {
   "cell_type": "code",
   "execution_count": null,
   "metadata": {},
   "outputs": [],
   "source": []
  },
  {
   "cell_type": "code",
   "execution_count": null,
   "metadata": {},
   "outputs": [],
   "source": []
  },
  {
   "cell_type": "code",
   "execution_count": null,
   "metadata": {},
   "outputs": [],
   "source": []
  },
  {
   "cell_type": "code",
   "execution_count": null,
   "metadata": {},
   "outputs": [],
   "source": []
  },
  {
   "cell_type": "code",
   "execution_count": null,
   "metadata": {},
   "outputs": [],
   "source": []
  },
  {
   "cell_type": "code",
   "execution_count": null,
   "metadata": {},
   "outputs": [],
   "source": []
  },
  {
   "cell_type": "code",
   "execution_count": null,
   "metadata": {},
   "outputs": [],
   "source": []
  },
  {
   "cell_type": "code",
   "execution_count": null,
   "metadata": {},
   "outputs": [],
   "source": []
  },
  {
   "cell_type": "code",
   "execution_count": null,
   "metadata": {},
   "outputs": [],
   "source": []
  },
  {
   "cell_type": "code",
   "execution_count": null,
   "metadata": {},
   "outputs": [],
   "source": []
  },
  {
   "cell_type": "code",
   "execution_count": null,
   "metadata": {},
   "outputs": [],
   "source": []
  },
  {
   "cell_type": "code",
   "execution_count": null,
   "metadata": {},
   "outputs": [],
   "source": []
  },
  {
   "cell_type": "code",
   "execution_count": null,
   "metadata": {},
   "outputs": [],
   "source": []
  },
  {
   "cell_type": "code",
   "execution_count": null,
   "metadata": {},
   "outputs": [],
   "source": []
  },
  {
   "cell_type": "code",
   "execution_count": null,
   "metadata": {},
   "outputs": [],
   "source": []
  },
  {
   "cell_type": "code",
   "execution_count": null,
   "metadata": {},
   "outputs": [],
   "source": []
  }
 ],
 "metadata": {
  "kernelspec": {
   "display_name": "Python 3",
   "language": "python",
   "name": "python3"
  },
  "language_info": {
   "codemirror_mode": {
    "name": "ipython",
    "version": 3
   },
   "file_extension": ".py",
   "mimetype": "text/x-python",
   "name": "python",
   "nbconvert_exporter": "python",
   "pygments_lexer": "ipython3",
   "version": "3.12.0"
  }
 },
 "nbformat": 4,
 "nbformat_minor": 2
}
