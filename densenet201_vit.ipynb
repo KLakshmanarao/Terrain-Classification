{
 "cells": [
  {
   "cell_type": "code",
   "execution_count": 1,
   "metadata": {},
   "outputs": [],
   "source": [
    "import tensorflow as tf\n",
    "from tensorflow.keras import layers, models\n",
    "from tensorflow.keras.optimizers import Adam\n",
    "from tensorflow.keras.models import load_model\n",
    "from tensorflow.keras.layers import MultiHeadAttention\n",
    "from keras.preprocessing.image import ImageDataGenerator"
   ]
  },
  {
   "cell_type": "code",
   "execution_count": 2,
   "metadata": {},
   "outputs": [
    {
     "name": "stdout",
     "output_type": "stream",
     "text": [
      "Feature Shape: (64,)\n"
     ]
    }
   ],
   "source": [
    "# Load the model from the H5 file\n",
    "loaded_model = load_model('densenet201_model.h5')\n",
    "\n",
    "# Print the shape of the feature extraction layer for debugging\n",
    "print(\"Feature Shape:\", loaded_model.layers[-3].output_shape[1:])"
   ]
  },
  {
   "cell_type": "code",
   "execution_count": 3,
   "metadata": {},
   "outputs": [],
   "source": [
    "train_path = './train'\n",
    "test_path = './test'\n",
    "val_path = './val'"
   ]
  },
  {
   "cell_type": "code",
   "execution_count": 4,
   "metadata": {},
   "outputs": [],
   "source": [
    "size_images = 150\n",
    "batch_size = 32"
   ]
  },
  {
   "cell_type": "code",
   "execution_count": 5,
   "metadata": {},
   "outputs": [
    {
     "name": "stdout",
     "output_type": "stream",
     "text": [
      "Found 31571 images belonging to 4 classes.\n",
      "Found 6769 images belonging to 4 classes.\n",
      "Found 6765 images belonging to 4 classes.\n"
     ]
    }
   ],
   "source": [
    "train_datagen = ImageDataGenerator(\n",
    "    rescale=1.0/255,                # Rescale pixel values to [0, 1]\n",
    ")\n",
    "train_generator = train_datagen.flow_from_directory(\n",
    "    train_path,                     # Path to the training data\n",
    "    target_size=(size_images, size_images),  # Resize images to this size\n",
    "    batch_size = batch_size,        # Number of images in each batch\n",
    "    class_mode ='categorical'       # Mode for class labels (categorical for one-hot encoding)\n",
    ")\n",
    "\n",
    "test_datagen = ImageDataGenerator(rescale=1.0/255)\n",
    "test_generator = test_datagen.flow_from_directory(\n",
    "    test_path,\n",
    "    target_size=(size_images, size_images),\n",
    "    batch_size = batch_size,\n",
    "    class_mode='categorical')\n",
    "\n",
    "val_datagen = ImageDataGenerator(rescale=1.0/255)\n",
    "\n",
    "val_generator = val_datagen.flow_from_directory(\n",
    "    val_path,\n",
    "    target_size=(size_images, size_images),\n",
    "    batch_size=batch_size,\n",
    "    class_mode='categorical'\n",
    ")"
   ]
  },
  {
   "cell_type": "code",
   "execution_count": 6,
   "metadata": {},
   "outputs": [],
   "source": [
    "from tensorflow.keras.callbacks import EarlyStopping, LearningRateScheduler\n",
    "# Define a learning rate schedule function\n",
    "def lr_schedule(epoch):\n",
    "    initial_lr = 0.001\n",
    "    drop = 0.5\n",
    "    epochs_drop = 5\n",
    "    lr = initial_lr * math.pow(drop, math.floor((1+epoch)/epochs_drop))\n",
    "    return lr\n",
    "\n",
    "early_stopping = EarlyStopping(\n",
    "    min_delta=0.001,\n",
    "    patience=5,\n",
    "    restore_best_weights=True,\n",
    ")\n",
    "\n",
    "# Use the LearningRateScheduler callback\n",
    "lr_callback = LearningRateScheduler(lr_schedule)"
   ]
  },
  {
   "cell_type": "code",
   "execution_count": 7,
   "metadata": {},
   "outputs": [
    {
     "name": "stdout",
     "output_type": "stream",
     "text": [
      "Feature Shape: (64,)\n"
     ]
    }
   ],
   "source": [
    "import tensorflow as tf\n",
    "from tensorflow.keras import layers, models\n",
    "from tensorflow.keras.layers import MultiHeadAttention\n",
    "from tensorflow.keras.optimizers import Adam\n",
    "# Assuming you have a pre-trained feature extractor model (e.g., a CNN)\n",
    "pretrained_feature_extractor = loaded_model.layers[-3]\n",
    "\n",
    "# Get the output shape of the feature extraction layer\n",
    "feature_shape = pretrained_feature_extractor.output_shape[1:]\n",
    "\n",
    "base_model = models.Model(inputs=loaded_model.input, outputs=loaded_model.layers[-3].output)\n",
    "# Print the shape for debugging\n",
    "print(\"Feature Shape:\", feature_shape)"
   ]
  },
  {
   "cell_type": "code",
   "execution_count": 8,
   "metadata": {},
   "outputs": [
    {
     "name": "stdout",
     "output_type": "stream",
     "text": [
      "Model: \"model_1\"\n",
      "__________________________________________________________________________________________________\n",
      "Layer (type)                    Output Shape         Param #     Connected to                     \n",
      "==================================================================================================\n",
      "input_1 (InputLayer)            [(None, 64)]         0                                            \n",
      "__________________________________________________________________________________________________\n",
      "reshape (Reshape)               (None, 1, 64)        0           input_1[0][0]                    \n",
      "__________________________________________________________________________________________________\n",
      "multi_head_attention (MultiHead (None, 1, 64)        82944       reshape[0][0]                    \n",
      "                                                                 reshape[0][0]                    \n",
      "__________________________________________________________________________________________________\n",
      "layer_normalization (LayerNorma (None, 1, 64)        128         multi_head_attention[0][0]       \n",
      "__________________________________________________________________________________________________\n",
      "dropout (Dropout)               (None, 1, 64)        0           layer_normalization[0][0]        \n",
      "__________________________________________________________________________________________________\n",
      "reshape_1 (Reshape)             (None, 1, 64)        0           dropout[0][0]                    \n",
      "__________________________________________________________________________________________________\n",
      "dense (Dense)                   (None, 1, 4)         260         reshape_1[0][0]                  \n",
      "==================================================================================================\n",
      "Total params: 83,332\n",
      "Trainable params: 83,332\n",
      "Non-trainable params: 0\n",
      "__________________________________________________________________________________________________\n"
     ]
    }
   ],
   "source": [
    "# Define your transformer model\n",
    "def transformer_model(input_shape, num_transformer_layers, output_dim):\n",
    "    inputs = tf.keras.Input(shape=input_shape)\n",
    "    \n",
    "    # Add a \"sequence_length\" dimension to the input\n",
    "    sequence = layers.Reshape((1, input_shape[0]))(inputs)\n",
    "    \n",
    "    # Transformer layers using MultiHeadAttention\n",
    "    sequence = MultiHeadAttention(num_heads=5, key_dim=64)(sequence, sequence)\n",
    "    sequence = layers.LayerNormalization(epsilon=1e-6)(sequence)\n",
    "    sequence = layers.Dropout(0.1)(sequence)\n",
    "    \n",
    "    # Reshape the sequence to maintain 3D structure\n",
    "    sequence = layers.Reshape((-1, feature_shape[0]))(sequence)\n",
    "    \n",
    "    # Output layer for your specific task\n",
    "    outputs = layers.Dense(output_dim, activation='softmax')(sequence)\n",
    "    \n",
    "    model = models.Model(inputs=inputs, outputs=outputs)\n",
    "    return model\n",
    "\n",
    "# Define your task-specific output dimension (e.g., number of classes)\n",
    "output_dim = 4\n",
    "num_tlayers = 2\n",
    "\n",
    "# Create the transformer model\n",
    "transformer = transformer_model(input_shape=feature_shape, num_transformer_layers=num_tlayers, output_dim=output_dim)\n",
    "\n",
    "# Print the summary of the model for debugging\n",
    "transformer.summary()\n"
   ]
  },
  {
   "cell_type": "code",
   "execution_count": 9,
   "metadata": {},
   "outputs": [
    {
     "name": "stdout",
     "output_type": "stream",
     "text": [
      "Model: \"sequential\"\n",
      "_________________________________________________________________\n",
      "Layer (type)                 Output Shape              Param #   \n",
      "=================================================================\n",
      "model (Functional)           (None, 64)                26227712  \n",
      "_________________________________________________________________\n",
      "model_1 (Functional)         (None, 1, 4)              83332     \n",
      "_________________________________________________________________\n",
      "flatten (Flatten)            (None, 4)                 0         \n",
      "=================================================================\n",
      "Total params: 26,311,044\n",
      "Trainable params: 26,081,988\n",
      "Non-trainable params: 229,056\n",
      "_________________________________________________________________\n"
     ]
    }
   ],
   "source": [
    "# Combine the pre-trained feature extractor with the transformer\n",
    "combined_model = models.Sequential([\n",
    "    base_model,\n",
    "    transformer,\n",
    "    layers.Flatten()  # Add Flatten layer to reshape the output\n",
    "])\n",
    "\n",
    "# Compile the model (adjust loss and metrics based on your task)\n",
    "combined_model.compile(optimizer=Adam(learning_rate=0.000005), loss='categorical_crossentropy', metrics=['accuracy'])\n",
    "\n",
    "# Print the summary of the combined model\n",
    "combined_model.summary()"
   ]
  },
  {
   "cell_type": "code",
   "execution_count": 10,
   "metadata": {},
   "outputs": [
    {
     "name": "stdout",
     "output_type": "stream",
     "text": [
      "Epoch 1/20\n",
      "986/986 [==============================] - 312s 277ms/step - loss: 0.1270 - accuracy: 0.9629 - val_loss: 0.4896 - val_accuracy: 0.8866\n",
      "Epoch 2/20\n",
      "986/986 [==============================] - 253s 257ms/step - loss: 0.0958 - accuracy: 0.9691 - val_loss: 0.3433 - val_accuracy: 0.8972\n",
      "Epoch 3/20\n",
      "986/986 [==============================] - 259s 263ms/step - loss: 0.1004 - accuracy: 0.9672 - val_loss: 1.3593 - val_accuracy: 0.6537\n",
      "Epoch 4/20\n",
      "986/986 [==============================] - 260s 264ms/step - loss: 0.0803 - accuracy: 0.9742 - val_loss: 1.0555 - val_accuracy: 0.6958\n",
      "Epoch 5/20\n",
      "986/986 [==============================] - 265s 268ms/step - loss: 0.0410 - accuracy: 0.9869 - val_loss: 0.0638 - val_accuracy: 0.9790\n",
      "Epoch 6/20\n",
      "986/986 [==============================] - 273s 276ms/step - loss: 0.0395 - accuracy: 0.9879 - val_loss: 0.0997 - val_accuracy: 0.9704\n",
      "Epoch 7/20\n",
      "986/986 [==============================] - 275s 278ms/step - loss: 0.0373 - accuracy: 0.9881 - val_loss: 0.0342 - val_accuracy: 0.9901\n",
      "Epoch 8/20\n",
      "986/986 [==============================] - 264s 268ms/step - loss: 0.0336 - accuracy: 0.9886 - val_loss: 0.6204 - val_accuracy: 0.8350\n",
      "Epoch 9/20\n",
      "986/986 [==============================] - 261s 264ms/step - loss: 0.0333 - accuracy: 0.9893 - val_loss: 0.1532 - val_accuracy: 0.9495\n",
      "Epoch 10/20\n",
      "986/986 [==============================] - 266s 270ms/step - loss: 0.0158 - accuracy: 0.9955 - val_loss: 0.0169 - val_accuracy: 0.9942\n",
      "Epoch 11/20\n",
      "986/986 [==============================] - 272s 275ms/step - loss: 0.0164 - accuracy: 0.9944 - val_loss: 0.1869 - val_accuracy: 0.9482\n",
      "Epoch 12/20\n",
      "986/986 [==============================] - 273s 277ms/step - loss: 0.0139 - accuracy: 0.9950 - val_loss: 0.0637 - val_accuracy: 0.9834\n",
      "Epoch 13/20\n",
      "986/986 [==============================] - 267s 271ms/step - loss: 0.0146 - accuracy: 0.9958 - val_loss: 0.0213 - val_accuracy: 0.9947\n",
      "Epoch 14/20\n",
      "986/986 [==============================] - 264s 268ms/step - loss: 0.0149 - accuracy: 0.9958 - val_loss: 0.0420 - val_accuracy: 0.9870\n",
      "Epoch 15/20\n",
      "986/986 [==============================] - 265s 269ms/step - loss: 0.0077 - accuracy: 0.9978 - val_loss: 0.0082 - val_accuracy: 0.9978\n",
      "Epoch 16/20\n",
      "986/986 [==============================] - 257s 261ms/step - loss: 0.0065 - accuracy: 0.9982 - val_loss: 0.0339 - val_accuracy: 0.9884\n",
      "Epoch 17/20\n",
      "986/986 [==============================] - 272s 275ms/step - loss: 0.0060 - accuracy: 0.9983 - val_loss: 0.1391 - val_accuracy: 0.9563\n",
      "Epoch 18/20\n",
      "986/986 [==============================] - 272s 275ms/step - loss: 0.0076 - accuracy: 0.9978 - val_loss: 0.0203 - val_accuracy: 0.9942\n",
      "Epoch 19/20\n",
      "986/986 [==============================] - 268s 271ms/step - loss: 0.0059 - accuracy: 0.9982 - val_loss: 1.0029 - val_accuracy: 0.8332\n",
      "Epoch 20/20\n",
      "986/986 [==============================] - 265s 269ms/step - loss: 0.0034 - accuracy: 0.9989 - val_loss: 0.0100 - val_accuracy: 0.9966\n"
     ]
    }
   ],
   "source": [
    "# Train the model\n",
    "import math\n",
    "history = combined_model.fit(\n",
    "    train_generator,\n",
    "    steps_per_epoch=train_generator.samples // batch_size,\n",
    "    epochs=20,\n",
    "    validation_data=val_generator,\n",
    "    validation_steps=val_generator.samples // batch_size,\n",
    "    callbacks=[early_stopping, lr_callback]\n",
    ")"
   ]
  },
  {
   "cell_type": "code",
   "execution_count": 11,
   "metadata": {},
   "outputs": [
    {
     "name": "stdout",
     "output_type": "stream",
     "text": [
      "211/211 [==============================] - 33s 154ms/step - loss: 0.0096 - accuracy: 0.9966\n",
      "Test Loss: 0.009622241370379925\n",
      "Test Accuracy: 0.9965935945510864\n"
     ]
    }
   ],
   "source": [
    "test_results = combined_model.evaluate(test_generator, steps=test_generator.samples // batch_size)\n",
    "print(\"Test Loss:\", test_results[0])\n",
    "print(\"Test Accuracy:\", test_results[1])"
   ]
  },
  {
   "cell_type": "code",
   "execution_count": 22,
   "metadata": {},
   "outputs": [],
   "source": [
    "combined_model.save('densenet201_vit_model.h5')"
   ]
  },
  {
   "cell_type": "code",
   "execution_count": 23,
   "metadata": {},
   "outputs": [],
   "source": [
    "import numpy as np\n",
    "\n",
    "loaded_model = load_model('densenet201_vit_model.h5')\n",
    "\n",
    "# Initialize lists to accumulate predictions and true labels\n",
    "all_predictions = []\n",
    "all_true_labels = []\n",
    "\n",
    "# Loop through all batches in the test generator\n",
    "for _ in range(len(test_generator)):\n",
    "    images, labels = test_generator.next()\n",
    "\n",
    "    # Predictions on the current batch\n",
    "    batch_predictions = loaded_model.predict(images)\n",
    "    all_predictions.extend(batch_predictions)\n",
    "    \n",
    "    # True labels for the current batch\n",
    "    batch_true_labels = np.argmax(labels, axis=1)\n",
    "    all_true_labels.extend(batch_true_labels)\n",
    "\n",
    "# Convert lists to numpy arrays\n",
    "all_predictions = np.array(all_predictions)\n",
    "all_true_labels = np.array(all_true_labels)\n",
    "\n",
    "# Extract predicted labels from all predictions\n",
    "predicted_labels = np.argmax(all_predictions, axis=1)"
   ]
  },
  {
   "cell_type": "code",
   "execution_count": 25,
   "metadata": {},
   "outputs": [
    {
     "data": {
      "image/png": "[encoded data removed]",
      "text/plain": [
       "<Figure size 600x400 with 2 Axes>"
      ]
     },
     "metadata": {},
     "output_type": "display_data"
    }
   ],
   "source": [
    "# Confusion Matrix\n",
    "from sklearn.metrics import classification_report, confusion_matrix\n",
    "import matplotlib.pyplot as plt\n",
    "import seaborn as sns\n",
    "conf_mat = confusion_matrix(all_true_labels, predicted_labels)\n",
    "\n",
    "# Plot the confusion matrix\n",
    "class_names = ['Grassy', 'Marshy', 'Rocky', 'Sandy']  # Update with your actual class names\n",
    "plt.figure(figsize=(6, 4))\n",
    "sns.heatmap(conf_mat, annot=True, fmt='d', cmap='Blues',\n",
    "            xticklabels=class_names, yticklabels=class_names)\n",
    "plt.title('Confusion Matrix - Densenet201 VIT')\n",
    "plt.xlabel('Predicted')\n",
    "plt.ylabel('True')\n",
    "plt.show()"
   ]
  },
  {
   "cell_type": "code",
   "execution_count": 26,
   "metadata": {},
   "outputs": [
    {
     "name": "stdout",
     "output_type": "stream",
     "text": [
      "Classification Report of Densenet 201 VIT:\n",
      "              precision    recall  f1-score   support\n",
      "\n",
      "      Grassy       0.53      1.00      0.70      1824\n",
      "      Marshy       0.04      0.00      0.00      1657\n",
      "       Rocky       0.00      0.00      0.00      1644\n",
      "       Sandy       0.00      0.00      0.00      1644\n",
      "\n",
      "    accuracy                           0.27      6769\n",
      "   macro avg       0.14      0.25      0.17      6769\n",
      "weighted avg       0.15      0.27      0.19      6769\n",
      "\n"
     ]
    }
   ],
   "source": [
    "\n",
    "# Classification Report\n",
    "print(\"Classification Report of Densenet 201 VIT:\")\n",
    "print(classification_report(all_true_labels, predicted_labels, target_names=class_names))\n"
   ]
  },
  {
   "cell_type": "code",
   "execution_count": 27,
   "metadata": {},
   "outputs": [
    {
     "name": "stdout",
     "output_type": "stream",
     "text": [
      "Percentage of correct predictions for Grassy: 99.95%\n",
      "Percentage of correct predictions for Marshy: 0.06%\n",
      "Percentage of correct predictions for Rocky: 0.00%\n",
      "Percentage of correct predictions for Sandy: 0.06%\n"
     ]
    }
   ],
   "source": [
    "# Calculate percentage of correct predictions for each class\n",
    "correctly_classified = np.diag(conf_mat)\n",
    "total_true_per_class = np.sum(conf_mat, axis=1)\n",
    "percentage_correct_per_class = (correctly_classified / total_true_per_class) * 100\n",
    "\n",
    "# Display the percentage of correct predictions for each class\n",
    "for i, class_name in enumerate(class_names):\n",
    "    print(f'Percentage of correct predictions for {class_name}: {percentage_correct_per_class[i]:.2f}%')\n"
   ]
  },
  {
   "cell_type": "code",
   "execution_count": 28,
   "metadata": {},
   "outputs": [
    {
     "data": {
      "image/png": "[encoded data removed]",
      "text/plain": [
       "<Figure size 1000x600 with 1 Axes>"
      ]
     },
     "metadata": {},
     "output_type": "display_data"
    }
   ],
   "source": [
    "class_names = ['Grassy', 'Marshy', 'Rocky', 'Sandy']  # Update with your actual class names\n",
    "\n",
    "# Print the number of images classified correctly and wrongly in each class\n",
    "correctly_classified = np.diag(conf_mat)\n",
    "wrongly_classified = np.sum(conf_mat, axis=1) - correctly_classified\n",
    "\n",
    "# Total number of images in each class\n",
    "total_images_per_class = np.sum(conf_mat, axis=1)\n",
    "\n",
    "x = np.arange(len(class_names))\n",
    "width = 0.25\n",
    "\n",
    "fig, ax = plt.subplots(figsize=(10, 6))\n",
    "\n",
    "rects1 = ax.bar(x - width, total_images_per_class, width, label='Total Images')\n",
    "rects2 = ax.bar(x, correctly_classified, width, label='Correct Predictions')\n",
    "rects3 = ax.bar(x + width, wrongly_classified, width, label='Wrong Predictions')\n",
    "\n",
    "ax.set_xlabel('Classes')\n",
    "ax.set_ylabel('Number of Images')\n",
    "ax.set_title('Total, Correct, and Wrong Predictions per Class - DenseNet 201')\n",
    "ax.set_xticks(x)\n",
    "ax.set_xticklabels(class_names)\n",
    "ax.legend()\n",
    "\n",
    "# Display the number of images on top of each bar with proper spacing\n",
    "def autolabel(rects):\n",
    "    for rect in rects:\n",
    "        height = rect.get_height()\n",
    "        ax.annotate('{}'.format(height),\n",
    "                    xy=(rect.get_x() + rect.get_width() / 2, height),\n",
    "                    xytext=(0, 3),  # 3 points vertical offset\n",
    "                    textcoords=\"offset points\",\n",
    "                    ha='center', va='bottom')\n",
    "\n",
    "autolabel(rects1)\n",
    "autolabel(rects2)\n",
    "autolabel(rects3)\n",
    "\n",
    "# Adjust layout to prevent overlapping\n",
    "plt.tight_layout(rect=[0, 0, 1, 1.3])  # Increase the value in the last argument if necessary\n",
    "\n",
    "plt.show()"
   ]
  }
 ],
 "metadata": {
  "kernelspec": {
   "display_name": "suresh",
   "language": "python",
   "name": "python3"
  },
  "language_info": {
   "codemirror_mode": {
    "name": "ipython",
    "version": 3
   },
   "file_extension": ".py",
   "mimetype": "text/x-python",
   "name": "python",
   "nbconvert_exporter": "python",
   "pygments_lexer": "ipython3",
   "version": "3.9.15"
  }
 },
 "nbformat": 4,
 "nbformat_minor": 2
}
